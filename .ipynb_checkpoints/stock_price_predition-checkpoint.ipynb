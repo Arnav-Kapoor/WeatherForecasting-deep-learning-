{
  "nbformat": 4,
  "nbformat_minor": 0,
  "metadata": {
    "colab": {
      "provenance": []
    },
    "kernelspec": {
      "name": "python3",
      "display_name": "Python 3"
    },
    "language_info": {
      "name": "python"
    },
    "accelerator": "GPU",
    "gpuClass": "standard"
  },
  "cells": [
    {
      "cell_type": "code",
      "execution_count": 2,
      "metadata": {
        "id": "hhICFzrKQRfG"
      },
      "outputs": [],
      "source": [
        "import pandas_datareader as pdr"
      ]
    },
    {
      "cell_type": "code",
      "source": [
        "df=pdr.get_data_tiingo('AAPL',api_key='0ebb94518d7dffeb9b42d7440d974f3135fab6a9')"
      ],
      "metadata": {
        "colab": {
          "base_uri": "https://localhost:8080/"
        },
        "id": "n5dCZv-vQvJS",
        "outputId": "cc2f9ed0-367d-4d62-f54f-34ebd39ca488"
      },
      "execution_count": 3,
      "outputs": [
        {
          "output_type": "stream",
          "name": "stderr",
          "text": [
            "/usr/local/lib/python3.8/dist-packages/pandas_datareader/tiingo.py:234: FutureWarning: In a future version of pandas all arguments of concat except for the argument 'objs' will be keyword-only\n",
            "  return pd.concat(dfs, self._concat_axis)\n"
          ]
        }
      ]
    },
    {
      "cell_type": "code",
      "source": [
        "df.to_csv('AAPL.csv')"
      ],
      "metadata": {
        "id": "k-IPqZ0IRE24"
      },
      "execution_count": 4,
      "outputs": []
    },
    {
      "cell_type": "code",
      "source": [
        "import pandas as pd"
      ],
      "metadata": {
        "id": "m_hrsd8_TA1E"
      },
      "execution_count": 5,
      "outputs": []
    },
    {
      "cell_type": "code",
      "source": [
        "df=pd.read_csv('AAPL.csv')"
      ],
      "metadata": {
        "id": "Lcl_xhjFSx-X"
      },
      "execution_count": 6,
      "outputs": []
    },
    {
      "cell_type": "code",
      "source": [
        "df.head()"
      ],
      "metadata": {
        "colab": {
          "base_uri": "https://localhost:8080/",
          "height": 206
        },
        "id": "jUtHPjnbS_La",
        "outputId": "a7fbae8f-49c9-43a6-b4b5-8a38f10f4996"
      },
      "execution_count": 7,
      "outputs": [
        {
          "output_type": "execute_result",
          "data": {
            "text/plain": [
              "  symbol                       date   close    high     low    open    volume  \\\n",
              "0   AAPL  2018-02-01 00:00:00+00:00  167.78  168.62  166.76  167.17  38099665   \n",
              "1   AAPL  2018-02-02 00:00:00+00:00  160.50  166.80  160.10  166.00  85436075   \n",
              "2   AAPL  2018-02-05 00:00:00+00:00  156.49  163.88  156.00  159.10  66090446   \n",
              "3   AAPL  2018-02-06 00:00:00+00:00  163.03  163.72  154.00  154.83  66625484   \n",
              "4   AAPL  2018-02-07 00:00:00+00:00  159.54  163.40  159.07  163.09  50852130   \n",
              "\n",
              "    adjClose    adjHigh     adjLow    adjOpen  adjVolume  divCash  splitFactor  \n",
              "0  39.833291  40.032719  39.591129  39.688469  152398660      0.0          1.0  \n",
              "1  38.104919  39.600626  38.009953  39.410695  341744300      0.0          1.0  \n",
              "2  37.152889  38.907377  37.036556  37.772539  264361784      0.0          1.0  \n",
              "3  38.705576  38.869391  36.561729  36.758782  266501936      0.0          1.0  \n",
              "4  37.877001  38.793419  37.765417  38.719820  203408520      0.0          1.0  "
            ],
            "text/html": [
              "\n",
              "  <div id=\"df-202b4b4b-6afc-4cd2-9f64-b62ec58a353c\">\n",
              "    <div class=\"colab-df-container\">\n",
              "      <div>\n",
              "<style scoped>\n",
              "    .dataframe tbody tr th:only-of-type {\n",
              "        vertical-align: middle;\n",
              "    }\n",
              "\n",
              "    .dataframe tbody tr th {\n",
              "        vertical-align: top;\n",
              "    }\n",
              "\n",
              "    .dataframe thead th {\n",
              "        text-align: right;\n",
              "    }\n",
              "</style>\n",
              "<table border=\"1\" class=\"dataframe\">\n",
              "  <thead>\n",
              "    <tr style=\"text-align: right;\">\n",
              "      <th></th>\n",
              "      <th>symbol</th>\n",
              "      <th>date</th>\n",
              "      <th>close</th>\n",
              "      <th>high</th>\n",
              "      <th>low</th>\n",
              "      <th>open</th>\n",
              "      <th>volume</th>\n",
              "      <th>adjClose</th>\n",
              "      <th>adjHigh</th>\n",
              "      <th>adjLow</th>\n",
              "      <th>adjOpen</th>\n",
              "      <th>adjVolume</th>\n",
              "      <th>divCash</th>\n",
              "      <th>splitFactor</th>\n",
              "    </tr>\n",
              "  </thead>\n",
              "  <tbody>\n",
              "    <tr>\n",
              "      <th>0</th>\n",
              "      <td>AAPL</td>\n",
              "      <td>2018-02-01 00:00:00+00:00</td>\n",
              "      <td>167.78</td>\n",
              "      <td>168.62</td>\n",
              "      <td>166.76</td>\n",
              "      <td>167.17</td>\n",
              "      <td>38099665</td>\n",
              "      <td>39.833291</td>\n",
              "      <td>40.032719</td>\n",
              "      <td>39.591129</td>\n",
              "      <td>39.688469</td>\n",
              "      <td>152398660</td>\n",
              "      <td>0.0</td>\n",
              "      <td>1.0</td>\n",
              "    </tr>\n",
              "    <tr>\n",
              "      <th>1</th>\n",
              "      <td>AAPL</td>\n",
              "      <td>2018-02-02 00:00:00+00:00</td>\n",
              "      <td>160.50</td>\n",
              "      <td>166.80</td>\n",
              "      <td>160.10</td>\n",
              "      <td>166.00</td>\n",
              "      <td>85436075</td>\n",
              "      <td>38.104919</td>\n",
              "      <td>39.600626</td>\n",
              "      <td>38.009953</td>\n",
              "      <td>39.410695</td>\n",
              "      <td>341744300</td>\n",
              "      <td>0.0</td>\n",
              "      <td>1.0</td>\n",
              "    </tr>\n",
              "    <tr>\n",
              "      <th>2</th>\n",
              "      <td>AAPL</td>\n",
              "      <td>2018-02-05 00:00:00+00:00</td>\n",
              "      <td>156.49</td>\n",
              "      <td>163.88</td>\n",
              "      <td>156.00</td>\n",
              "      <td>159.10</td>\n",
              "      <td>66090446</td>\n",
              "      <td>37.152889</td>\n",
              "      <td>38.907377</td>\n",
              "      <td>37.036556</td>\n",
              "      <td>37.772539</td>\n",
              "      <td>264361784</td>\n",
              "      <td>0.0</td>\n",
              "      <td>1.0</td>\n",
              "    </tr>\n",
              "    <tr>\n",
              "      <th>3</th>\n",
              "      <td>AAPL</td>\n",
              "      <td>2018-02-06 00:00:00+00:00</td>\n",
              "      <td>163.03</td>\n",
              "      <td>163.72</td>\n",
              "      <td>154.00</td>\n",
              "      <td>154.83</td>\n",
              "      <td>66625484</td>\n",
              "      <td>38.705576</td>\n",
              "      <td>38.869391</td>\n",
              "      <td>36.561729</td>\n",
              "      <td>36.758782</td>\n",
              "      <td>266501936</td>\n",
              "      <td>0.0</td>\n",
              "      <td>1.0</td>\n",
              "    </tr>\n",
              "    <tr>\n",
              "      <th>4</th>\n",
              "      <td>AAPL</td>\n",
              "      <td>2018-02-07 00:00:00+00:00</td>\n",
              "      <td>159.54</td>\n",
              "      <td>163.40</td>\n",
              "      <td>159.07</td>\n",
              "      <td>163.09</td>\n",
              "      <td>50852130</td>\n",
              "      <td>37.877001</td>\n",
              "      <td>38.793419</td>\n",
              "      <td>37.765417</td>\n",
              "      <td>38.719820</td>\n",
              "      <td>203408520</td>\n",
              "      <td>0.0</td>\n",
              "      <td>1.0</td>\n",
              "    </tr>\n",
              "  </tbody>\n",
              "</table>\n",
              "</div>\n",
              "      <button class=\"colab-df-convert\" onclick=\"convertToInteractive('df-202b4b4b-6afc-4cd2-9f64-b62ec58a353c')\"\n",
              "              title=\"Convert this dataframe to an interactive table.\"\n",
              "              style=\"display:none;\">\n",
              "        \n",
              "  <svg xmlns=\"http://www.w3.org/2000/svg\" height=\"24px\"viewBox=\"0 0 24 24\"\n",
              "       width=\"24px\">\n",
              "    <path d=\"M0 0h24v24H0V0z\" fill=\"none\"/>\n",
              "    <path d=\"M18.56 5.44l.94 2.06.94-2.06 2.06-.94-2.06-.94-.94-2.06-.94 2.06-2.06.94zm-11 1L8.5 8.5l.94-2.06 2.06-.94-2.06-.94L8.5 2.5l-.94 2.06-2.06.94zm10 10l.94 2.06.94-2.06 2.06-.94-2.06-.94-.94-2.06-.94 2.06-2.06.94z\"/><path d=\"M17.41 7.96l-1.37-1.37c-.4-.4-.92-.59-1.43-.59-.52 0-1.04.2-1.43.59L10.3 9.45l-7.72 7.72c-.78.78-.78 2.05 0 2.83L4 21.41c.39.39.9.59 1.41.59.51 0 1.02-.2 1.41-.59l7.78-7.78 2.81-2.81c.8-.78.8-2.07 0-2.86zM5.41 20L4 18.59l7.72-7.72 1.47 1.35L5.41 20z\"/>\n",
              "  </svg>\n",
              "      </button>\n",
              "      \n",
              "  <style>\n",
              "    .colab-df-container {\n",
              "      display:flex;\n",
              "      flex-wrap:wrap;\n",
              "      gap: 12px;\n",
              "    }\n",
              "\n",
              "    .colab-df-convert {\n",
              "      background-color: #E8F0FE;\n",
              "      border: none;\n",
              "      border-radius: 50%;\n",
              "      cursor: pointer;\n",
              "      display: none;\n",
              "      fill: #1967D2;\n",
              "      height: 32px;\n",
              "      padding: 0 0 0 0;\n",
              "      width: 32px;\n",
              "    }\n",
              "\n",
              "    .colab-df-convert:hover {\n",
              "      background-color: #E2EBFA;\n",
              "      box-shadow: 0px 1px 2px rgba(60, 64, 67, 0.3), 0px 1px 3px 1px rgba(60, 64, 67, 0.15);\n",
              "      fill: #174EA6;\n",
              "    }\n",
              "\n",
              "    [theme=dark] .colab-df-convert {\n",
              "      background-color: #3B4455;\n",
              "      fill: #D2E3FC;\n",
              "    }\n",
              "\n",
              "    [theme=dark] .colab-df-convert:hover {\n",
              "      background-color: #434B5C;\n",
              "      box-shadow: 0px 1px 3px 1px rgba(0, 0, 0, 0.15);\n",
              "      filter: drop-shadow(0px 1px 2px rgba(0, 0, 0, 0.3));\n",
              "      fill: #FFFFFF;\n",
              "    }\n",
              "  </style>\n",
              "\n",
              "      <script>\n",
              "        const buttonEl =\n",
              "          document.querySelector('#df-202b4b4b-6afc-4cd2-9f64-b62ec58a353c button.colab-df-convert');\n",
              "        buttonEl.style.display =\n",
              "          google.colab.kernel.accessAllowed ? 'block' : 'none';\n",
              "\n",
              "        async function convertToInteractive(key) {\n",
              "          const element = document.querySelector('#df-202b4b4b-6afc-4cd2-9f64-b62ec58a353c');\n",
              "          const dataTable =\n",
              "            await google.colab.kernel.invokeFunction('convertToInteractive',\n",
              "                                                     [key], {});\n",
              "          if (!dataTable) return;\n",
              "\n",
              "          const docLinkHtml = 'Like what you see? Visit the ' +\n",
              "            '<a target=\"_blank\" href=https://colab.research.google.com/notebooks/data_table.ipynb>data table notebook</a>'\n",
              "            + ' to learn more about interactive tables.';\n",
              "          element.innerHTML = '';\n",
              "          dataTable['output_type'] = 'display_data';\n",
              "          await google.colab.output.renderOutput(dataTable, element);\n",
              "          const docLink = document.createElement('div');\n",
              "          docLink.innerHTML = docLinkHtml;\n",
              "          element.appendChild(docLink);\n",
              "        }\n",
              "      </script>\n",
              "    </div>\n",
              "  </div>\n",
              "  "
            ]
          },
          "metadata": {},
          "execution_count": 7
        }
      ]
    },
    {
      "cell_type": "code",
      "source": [
        "df.tail()"
      ],
      "metadata": {
        "colab": {
          "base_uri": "https://localhost:8080/",
          "height": 206
        },
        "id": "ZiU0-2PgTEFy",
        "outputId": "3b2d46b2-6a13-400d-aa1f-a738461c98b6"
      },
      "execution_count": 8,
      "outputs": [
        {
          "output_type": "execute_result",
          "data": {
            "text/plain": [
              "     symbol                       date   close    high     low     open  \\\n",
              "1252   AAPL  2023-01-24 00:00:00+00:00  142.53  143.16  140.30  140.305   \n",
              "1253   AAPL  2023-01-25 00:00:00+00:00  141.86  142.43  138.81  140.890   \n",
              "1254   AAPL  2023-01-26 00:00:00+00:00  143.96  144.25  141.90  143.170   \n",
              "1255   AAPL  2023-01-27 00:00:00+00:00  145.93  147.23  143.08  143.155   \n",
              "1256   AAPL  2023-01-30 00:00:00+00:00  143.00  145.55  142.85  144.955   \n",
              "\n",
              "        volume  adjClose  adjHigh  adjLow  adjOpen  adjVolume  divCash  \\\n",
              "1252  66435142    142.53   143.16  140.30  140.305   66435142      0.0   \n",
              "1253  65799349    141.86   142.43  138.81  140.890   65799349      0.0   \n",
              "1254  54105068    143.96   144.25  141.90  143.170   54105068      0.0   \n",
              "1255  70555843    145.93   147.23  143.08  143.155   70555843      0.0   \n",
              "1256  64015274    143.00   145.55  142.85  144.955   64015274      0.0   \n",
              "\n",
              "      splitFactor  \n",
              "1252          1.0  \n",
              "1253          1.0  \n",
              "1254          1.0  \n",
              "1255          1.0  \n",
              "1256          1.0  "
            ],
            "text/html": [
              "\n",
              "  <div id=\"df-9048884f-1904-43ae-b553-7e3a80ee5e24\">\n",
              "    <div class=\"colab-df-container\">\n",
              "      <div>\n",
              "<style scoped>\n",
              "    .dataframe tbody tr th:only-of-type {\n",
              "        vertical-align: middle;\n",
              "    }\n",
              "\n",
              "    .dataframe tbody tr th {\n",
              "        vertical-align: top;\n",
              "    }\n",
              "\n",
              "    .dataframe thead th {\n",
              "        text-align: right;\n",
              "    }\n",
              "</style>\n",
              "<table border=\"1\" class=\"dataframe\">\n",
              "  <thead>\n",
              "    <tr style=\"text-align: right;\">\n",
              "      <th></th>\n",
              "      <th>symbol</th>\n",
              "      <th>date</th>\n",
              "      <th>close</th>\n",
              "      <th>high</th>\n",
              "      <th>low</th>\n",
              "      <th>open</th>\n",
              "      <th>volume</th>\n",
              "      <th>adjClose</th>\n",
              "      <th>adjHigh</th>\n",
              "      <th>adjLow</th>\n",
              "      <th>adjOpen</th>\n",
              "      <th>adjVolume</th>\n",
              "      <th>divCash</th>\n",
              "      <th>splitFactor</th>\n",
              "    </tr>\n",
              "  </thead>\n",
              "  <tbody>\n",
              "    <tr>\n",
              "      <th>1252</th>\n",
              "      <td>AAPL</td>\n",
              "      <td>2023-01-24 00:00:00+00:00</td>\n",
              "      <td>142.53</td>\n",
              "      <td>143.16</td>\n",
              "      <td>140.30</td>\n",
              "      <td>140.305</td>\n",
              "      <td>66435142</td>\n",
              "      <td>142.53</td>\n",
              "      <td>143.16</td>\n",
              "      <td>140.30</td>\n",
              "      <td>140.305</td>\n",
              "      <td>66435142</td>\n",
              "      <td>0.0</td>\n",
              "      <td>1.0</td>\n",
              "    </tr>\n",
              "    <tr>\n",
              "      <th>1253</th>\n",
              "      <td>AAPL</td>\n",
              "      <td>2023-01-25 00:00:00+00:00</td>\n",
              "      <td>141.86</td>\n",
              "      <td>142.43</td>\n",
              "      <td>138.81</td>\n",
              "      <td>140.890</td>\n",
              "      <td>65799349</td>\n",
              "      <td>141.86</td>\n",
              "      <td>142.43</td>\n",
              "      <td>138.81</td>\n",
              "      <td>140.890</td>\n",
              "      <td>65799349</td>\n",
              "      <td>0.0</td>\n",
              "      <td>1.0</td>\n",
              "    </tr>\n",
              "    <tr>\n",
              "      <th>1254</th>\n",
              "      <td>AAPL</td>\n",
              "      <td>2023-01-26 00:00:00+00:00</td>\n",
              "      <td>143.96</td>\n",
              "      <td>144.25</td>\n",
              "      <td>141.90</td>\n",
              "      <td>143.170</td>\n",
              "      <td>54105068</td>\n",
              "      <td>143.96</td>\n",
              "      <td>144.25</td>\n",
              "      <td>141.90</td>\n",
              "      <td>143.170</td>\n",
              "      <td>54105068</td>\n",
              "      <td>0.0</td>\n",
              "      <td>1.0</td>\n",
              "    </tr>\n",
              "    <tr>\n",
              "      <th>1255</th>\n",
              "      <td>AAPL</td>\n",
              "      <td>2023-01-27 00:00:00+00:00</td>\n",
              "      <td>145.93</td>\n",
              "      <td>147.23</td>\n",
              "      <td>143.08</td>\n",
              "      <td>143.155</td>\n",
              "      <td>70555843</td>\n",
              "      <td>145.93</td>\n",
              "      <td>147.23</td>\n",
              "      <td>143.08</td>\n",
              "      <td>143.155</td>\n",
              "      <td>70555843</td>\n",
              "      <td>0.0</td>\n",
              "      <td>1.0</td>\n",
              "    </tr>\n",
              "    <tr>\n",
              "      <th>1256</th>\n",
              "      <td>AAPL</td>\n",
              "      <td>2023-01-30 00:00:00+00:00</td>\n",
              "      <td>143.00</td>\n",
              "      <td>145.55</td>\n",
              "      <td>142.85</td>\n",
              "      <td>144.955</td>\n",
              "      <td>64015274</td>\n",
              "      <td>143.00</td>\n",
              "      <td>145.55</td>\n",
              "      <td>142.85</td>\n",
              "      <td>144.955</td>\n",
              "      <td>64015274</td>\n",
              "      <td>0.0</td>\n",
              "      <td>1.0</td>\n",
              "    </tr>\n",
              "  </tbody>\n",
              "</table>\n",
              "</div>\n",
              "      <button class=\"colab-df-convert\" onclick=\"convertToInteractive('df-9048884f-1904-43ae-b553-7e3a80ee5e24')\"\n",
              "              title=\"Convert this dataframe to an interactive table.\"\n",
              "              style=\"display:none;\">\n",
              "        \n",
              "  <svg xmlns=\"http://www.w3.org/2000/svg\" height=\"24px\"viewBox=\"0 0 24 24\"\n",
              "       width=\"24px\">\n",
              "    <path d=\"M0 0h24v24H0V0z\" fill=\"none\"/>\n",
              "    <path d=\"M18.56 5.44l.94 2.06.94-2.06 2.06-.94-2.06-.94-.94-2.06-.94 2.06-2.06.94zm-11 1L8.5 8.5l.94-2.06 2.06-.94-2.06-.94L8.5 2.5l-.94 2.06-2.06.94zm10 10l.94 2.06.94-2.06 2.06-.94-2.06-.94-.94-2.06-.94 2.06-2.06.94z\"/><path d=\"M17.41 7.96l-1.37-1.37c-.4-.4-.92-.59-1.43-.59-.52 0-1.04.2-1.43.59L10.3 9.45l-7.72 7.72c-.78.78-.78 2.05 0 2.83L4 21.41c.39.39.9.59 1.41.59.51 0 1.02-.2 1.41-.59l7.78-7.78 2.81-2.81c.8-.78.8-2.07 0-2.86zM5.41 20L4 18.59l7.72-7.72 1.47 1.35L5.41 20z\"/>\n",
              "  </svg>\n",
              "      </button>\n",
              "      \n",
              "  <style>\n",
              "    .colab-df-container {\n",
              "      display:flex;\n",
              "      flex-wrap:wrap;\n",
              "      gap: 12px;\n",
              "    }\n",
              "\n",
              "    .colab-df-convert {\n",
              "      background-color: #E8F0FE;\n",
              "      border: none;\n",
              "      border-radius: 50%;\n",
              "      cursor: pointer;\n",
              "      display: none;\n",
              "      fill: #1967D2;\n",
              "      height: 32px;\n",
              "      padding: 0 0 0 0;\n",
              "      width: 32px;\n",
              "    }\n",
              "\n",
              "    .colab-df-convert:hover {\n",
              "      background-color: #E2EBFA;\n",
              "      box-shadow: 0px 1px 2px rgba(60, 64, 67, 0.3), 0px 1px 3px 1px rgba(60, 64, 67, 0.15);\n",
              "      fill: #174EA6;\n",
              "    }\n",
              "\n",
              "    [theme=dark] .colab-df-convert {\n",
              "      background-color: #3B4455;\n",
              "      fill: #D2E3FC;\n",
              "    }\n",
              "\n",
              "    [theme=dark] .colab-df-convert:hover {\n",
              "      background-color: #434B5C;\n",
              "      box-shadow: 0px 1px 3px 1px rgba(0, 0, 0, 0.15);\n",
              "      filter: drop-shadow(0px 1px 2px rgba(0, 0, 0, 0.3));\n",
              "      fill: #FFFFFF;\n",
              "    }\n",
              "  </style>\n",
              "\n",
              "      <script>\n",
              "        const buttonEl =\n",
              "          document.querySelector('#df-9048884f-1904-43ae-b553-7e3a80ee5e24 button.colab-df-convert');\n",
              "        buttonEl.style.display =\n",
              "          google.colab.kernel.accessAllowed ? 'block' : 'none';\n",
              "\n",
              "        async function convertToInteractive(key) {\n",
              "          const element = document.querySelector('#df-9048884f-1904-43ae-b553-7e3a80ee5e24');\n",
              "          const dataTable =\n",
              "            await google.colab.kernel.invokeFunction('convertToInteractive',\n",
              "                                                     [key], {});\n",
              "          if (!dataTable) return;\n",
              "\n",
              "          const docLinkHtml = 'Like what you see? Visit the ' +\n",
              "            '<a target=\"_blank\" href=https://colab.research.google.com/notebooks/data_table.ipynb>data table notebook</a>'\n",
              "            + ' to learn more about interactive tables.';\n",
              "          element.innerHTML = '';\n",
              "          dataTable['output_type'] = 'display_data';\n",
              "          await google.colab.output.renderOutput(dataTable, element);\n",
              "          const docLink = document.createElement('div');\n",
              "          docLink.innerHTML = docLinkHtml;\n",
              "          element.appendChild(docLink);\n",
              "        }\n",
              "      </script>\n",
              "    </div>\n",
              "  </div>\n",
              "  "
            ]
          },
          "metadata": {},
          "execution_count": 8
        }
      ]
    },
    {
      "cell_type": "code",
      "source": [
        "df1=df.reset_index()['close']"
      ],
      "metadata": {
        "id": "VGKdIUVzTQ-c"
      },
      "execution_count": 9,
      "outputs": []
    },
    {
      "cell_type": "code",
      "source": [
        "df1.shape"
      ],
      "metadata": {
        "colab": {
          "base_uri": "https://localhost:8080/"
        },
        "id": "FTwsce0jTqsf",
        "outputId": "b3d81691-3fec-46aa-ba2a-b29602c9f93a"
      },
      "execution_count": 10,
      "outputs": [
        {
          "output_type": "execute_result",
          "data": {
            "text/plain": [
              "(1257,)"
            ]
          },
          "metadata": {},
          "execution_count": 10
        }
      ]
    },
    {
      "cell_type": "code",
      "source": [
        "import matplotlib.pyplot as plt\n",
        "plt.plot(df1)"
      ],
      "metadata": {
        "colab": {
          "base_uri": "https://localhost:8080/",
          "height": 283
        },
        "id": "l8_1YhvOT7Mh",
        "outputId": "e0a7ace9-f478-4a7b-b1b9-837641425771"
      },
      "execution_count": 11,
      "outputs": [
        {
          "output_type": "execute_result",
          "data": {
            "text/plain": [
              "[<matplotlib.lines.Line2D at 0x7efc97da5a00>]"
            ]
          },
          "metadata": {},
          "execution_count": 11
        },
        {
          "output_type": "display_data",
          "data": {
            "text/plain": [
              "<Figure size 432x288 with 1 Axes>"
            ],
            "image/png": "[encoded data removed]"
          },
          "metadata": {
            "needs_background": "light"
          }
        }
      ]
    },
    {
      "cell_type": "code",
      "source": [
        "### lstm are sensitive to scale of data so apply min max scaler"
      ],
      "metadata": {
        "id": "0zv_wtRAUAr5"
      },
      "execution_count": 12,
      "outputs": []
    },
    {
      "cell_type": "code",
      "source": [
        "import numpy as np\n"
      ],
      "metadata": {
        "id": "yfcxXmfaUNCO"
      },
      "execution_count": 13,
      "outputs": []
    },
    {
      "cell_type": "code",
      "source": [
        "from sklearn.preprocessing import MinMaxScaler\n",
        "scaler=MinMaxScaler(feature_range=(0,1))\n",
        "df1=scaler.fit_transform(np.array(df1).reshape(-1,1))"
      ],
      "metadata": {
        "id": "nFQISFq4UQOy"
      },
      "execution_count": 14,
      "outputs": []
    },
    {
      "cell_type": "code",
      "source": [
        "df1.shape"
      ],
      "metadata": {
        "colab": {
          "base_uri": "https://localhost:8080/"
        },
        "id": "YfewXwKIUjgA",
        "outputId": "a0d41385-1338-4fee-d753-8d813ddab85e"
      },
      "execution_count": 15,
      "outputs": [
        {
          "output_type": "execute_result",
          "data": {
            "text/plain": [
              "(1257, 1)"
            ]
          },
          "metadata": {},
          "execution_count": 15
        }
      ]
    },
    {
      "cell_type": "code",
      "source": [
        "df1"
      ],
      "metadata": {
        "colab": {
          "base_uri": "https://localhost:8080/"
        },
        "id": "mAZ68ym_UpKR",
        "outputId": "6a97fa8e-20ad-4123-8384-642940c55d3d"
      },
      "execution_count": 16,
      "outputs": [
        {
          "output_type": "execute_result",
          "data": {
            "text/plain": [
              "array([[0.15263619],\n",
              "       [0.134402  ],\n",
              "       [0.12435817],\n",
              "       ...,\n",
              "       [0.09297433],\n",
              "       [0.09790858],\n",
              "       [0.09056982]])"
            ]
          },
          "metadata": {},
          "execution_count": 16
        }
      ]
    },
    {
      "cell_type": "code",
      "source": [
        "training_size=int(len(df1)*0.65)\n",
        "test_size=len(df1)-training_size\n",
        "train_data,test_data=df1[0:training_size,:],df1[training_size:len(df1),:1]"
      ],
      "metadata": {
        "id": "Dlhh15dRUtHo"
      },
      "execution_count": 20,
      "outputs": []
    },
    {
      "cell_type": "code",
      "source": [
        "training_size, test_size"
      ],
      "metadata": {
        "colab": {
          "base_uri": "https://localhost:8080/"
        },
        "id": "qgDznG7kV_uw",
        "outputId": "cd5a34ac-60a1-44dd-eb10-a399c0e5c86f"
      },
      "execution_count": 21,
      "outputs": [
        {
          "output_type": "execute_result",
          "data": {
            "text/plain": [
              "(817, 440)"
            ]
          },
          "metadata": {},
          "execution_count": 21
        }
      ]
    },
    {
      "cell_type": "code",
      "source": [
        "import numpy as np\n"
      ],
      "metadata": {
        "id": "h-5gIZLqWRba"
      },
      "execution_count": 22,
      "outputs": []
    },
    {
      "cell_type": "code",
      "source": [
        "def create_dataset(dataset,time_step):\n",
        "  dataX,dataY=[],[]\n",
        "  for i in range(len(dataset)-time_step-1):\n",
        "    a=dataset[i:(i+time_step),0]\n",
        "    dataX.append(a)\n",
        "    dataY.append(dataset[i+time_step,0])\n",
        "    return np.array(dataX), np.array(dataY)"
      ],
      "metadata": {
        "id": "F_trYTIQWfcv"
      },
      "execution_count": 31,
      "outputs": []
    },
    {
      "cell_type": "code",
      "source": [
        "time_step=100\n",
        "X_train,y_train=create_dataset(train_data,time_step)\n",
        "X_test,y_test=create_dataset(test_data,time_step)"
      ],
      "metadata": {
        "id": "ftq_jzWhYsQv"
      },
      "execution_count": 32,
      "outputs": []
    },
    {
      "cell_type": "code",
      "source": [
        "print(X_train)"
      ],
      "metadata": {
        "colab": {
          "base_uri": "https://localhost:8080/"
        },
        "id": "N81CtXsGZB-s",
        "outputId": "6c793382-0be3-4c9a-af65-f6f444dcb92b"
      },
      "execution_count": 33,
      "outputs": [
        {
          "output_type": "stream",
          "name": "stdout",
          "text": [
            "[[0.15263619 0.134402   0.12435817 0.14073889 0.1319975  0.12100188\n",
            "  0.1241578  0.13993738 0.14402004 0.15160927 0.16568566 0.16428303\n",
            "  0.16283031 0.16087664 0.16445836 0.17197245 0.18066374 0.17921102\n",
            "  0.17853475 0.1707201  0.17375078 0.17527865 0.17490294 0.17079524\n",
            "  0.17557921 0.18319349 0.18755166 0.18316844 0.17933626 0.17986224\n",
            "  0.17828428 0.17147151 0.17132123 0.16137758 0.15531622 0.14552286\n",
            "  0.16513463 0.15403882 0.14938009 0.15263619 0.14988103 0.15416406\n",
            "  0.16222918 0.16520977 0.15413901 0.15832185 0.16633688 0.16430808\n",
            "  0.16856606 0.17004383 0.17277395 0.17883532 0.17783344 0.16520977\n",
            "  0.14747652 0.14627426 0.14051346 0.1422918  0.14371947 0.13896055\n",
            "  0.14632436 0.15594239 0.17465247 0.17545398 0.19283657 0.19616781\n",
            "  0.19839699 0.20167815 0.20839073 0.20475892 0.20365686 0.19937383\n",
            "  0.203732   0.20075141 0.19904822 0.20235441 0.20117721 0.20418284\n",
            "  0.20365686 0.20473388 0.20303068 0.2020288  0.20045085 0.20889167\n",
            "  0.21287414 0.21658109 0.21825924 0.21695679 0.21254853 0.21137132\n",
            "  0.21400125 0.21004383 0.2102943  0.2053851  0.20513463 0.1974953\n",
            "  0.19952411 0.19691922 0.19556669 0.18867877]]\n"
          ]
        }
      ]
    },
    {
      "cell_type": "code",
      "source": [
        "X_train.shape"
      ],
      "metadata": {
        "colab": {
          "base_uri": "https://localhost:8080/"
        },
        "id": "sV2zyg5PZJlq",
        "outputId": "659d2e3a-23b9-42f4-ee59-ffb6813ebd9a"
      },
      "execution_count": 34,
      "outputs": [
        {
          "output_type": "execute_result",
          "data": {
            "text/plain": [
              "(1, 100)"
            ]
          },
          "metadata": {},
          "execution_count": 34
        }
      ]
    },
    {
      "cell_type": "code",
      "source": [
        "y_train.shape"
      ],
      "metadata": {
        "colab": {
          "base_uri": "https://localhost:8080/"
        },
        "id": "Iu4Ob2LGZN8_",
        "outputId": "17e60259-6546-4ec1-cb54-04dc2eba18e4"
      },
      "execution_count": 35,
      "outputs": [
        {
          "output_type": "execute_result",
          "data": {
            "text/plain": [
              "(1,)"
            ]
          },
          "metadata": {},
          "execution_count": 35
        }
      ]
    },
    {
      "cell_type": "code",
      "source": [
        "##resahping is required in lstm\n",
        "\n",
        "X_train=X_train.reshape(X_train.shape[0],X_train.shape[1],1)\n",
        "X_test=X_test.reshape(X_test.shape[0],X_test.shape[1],1)"
      ],
      "metadata": {
        "id": "eKtFFjuyZTg5"
      },
      "execution_count": 36,
      "outputs": []
    },
    {
      "cell_type": "code",
      "source": [
        "from tensorflow.keras.models import Sequential\n",
        "from tensorflow.keras.layers import Dense\n",
        "from tensorflow.keras.layers import LSTM"
      ],
      "metadata": {
        "id": "CCpNmFmdaU3i"
      },
      "execution_count": 37,
      "outputs": []
    },
    {
      "cell_type": "code",
      "source": [
        "model=Sequential()\n",
        "model.add(LSTM(50,return_sequences=True,input_shape=(100,1)))\n",
        "model.add(LSTM(50,return_sequences=True))\n",
        "model.add(LSTM(50))\n",
        "model.add(Dense(1))\n",
        "model.compile(loss='mean_squared_error',optimizer='adam')"
      ],
      "metadata": {
        "id": "-VhRm8gJak5R"
      },
      "execution_count": 39,
      "outputs": []
    },
    {
      "cell_type": "code",
      "source": [
        "model.summary()"
      ],
      "metadata": {
        "colab": {
          "base_uri": "https://localhost:8080/"
        },
        "id": "cpGq_JRybEUC",
        "outputId": "821a4552-1299-4714-d390-0bb9217e2524"
      },
      "execution_count": 41,
      "outputs": [
        {
          "output_type": "stream",
          "name": "stdout",
          "text": [
            "Model: \"sequential\"\n",
            "_________________________________________________________________\n",
            " Layer (type)                Output Shape              Param #   \n",
            "=================================================================\n",
            " lstm (LSTM)                 (None, 100, 50)           10400     \n",
            "                                                                 \n",
            " lstm_1 (LSTM)               (None, 100, 50)           20200     \n",
            "                                                                 \n",
            " lstm_2 (LSTM)               (None, 50)                20200     \n",
            "                                                                 \n",
            " dense (Dense)               (None, 1)                 51        \n",
            "                                                                 \n",
            "=================================================================\n",
            "Total params: 50,851\n",
            "Trainable params: 50,851\n",
            "Non-trainable params: 0\n",
            "_________________________________________________________________\n"
          ]
        }
      ]
    },
    {
      "cell_type": "code",
      "source": [
        "model.fit(X_train,y_train,validation_data=(X_test,y_test),epochs=100,batch_size=64,verbose=1)"
      ],
      "metadata": {
        "colab": {
          "base_uri": "https://localhost:8080/"
        },
        "id": "DdecIxIobOrB",
        "outputId": "5c490161-7393-4d72-a473-96896ecbdcc0"
      },
      "execution_count": 42,
      "outputs": [
        {
          "output_type": "stream",
          "name": "stdout",
          "text": [
            "Epoch 1/100\n",
            "1/1 [==============================] - 9s 9s/step - loss: 0.0450 - val_loss: 0.0063\n",
            "Epoch 2/100\n",
            "1/1 [==============================] - 0s 38ms/step - loss: 0.0293 - val_loss: 0.0025\n",
            "Epoch 3/100\n",
            "1/1 [==============================] - 0s 39ms/step - loss: 0.0176 - val_loss: 3.9887e-04\n",
            "Epoch 4/100\n",
            "1/1 [==============================] - 0s 39ms/step - loss: 0.0086 - val_loss: 1.8616e-04\n",
            "Epoch 5/100\n",
            "1/1 [==============================] - 0s 37ms/step - loss: 0.0023 - val_loss: 0.0027\n",
            "Epoch 6/100\n",
            "1/1 [==============================] - 0s 40ms/step - loss: 8.1942e-06 - val_loss: 0.0079\n",
            "Epoch 7/100\n",
            "1/1 [==============================] - 0s 38ms/step - loss: 0.0028 - val_loss: 0.0111\n",
            "Epoch 8/100\n",
            "1/1 [==============================] - 0s 37ms/step - loss: 0.0055 - val_loss: 0.0101\n",
            "Epoch 9/100\n",
            "1/1 [==============================] - 0s 39ms/step - loss: 0.0046 - val_loss: 0.0073\n",
            "Epoch 10/100\n",
            "1/1 [==============================] - 0s 37ms/step - loss: 0.0023 - val_loss: 0.0046\n",
            "Epoch 11/100\n",
            "1/1 [==============================] - 0s 40ms/step - loss: 5.4586e-04 - val_loss: 0.0025\n",
            "Epoch 12/100\n",
            "1/1 [==============================] - 0s 46ms/step - loss: 6.7435e-07 - val_loss: 0.0013\n",
            "Epoch 13/100\n",
            "1/1 [==============================] - 0s 39ms/step - loss: 3.0796e-04 - val_loss: 6.9115e-04\n",
            "Epoch 14/100\n",
            "1/1 [==============================] - 0s 52ms/step - loss: 9.4457e-04 - val_loss: 4.1766e-04\n",
            "Epoch 15/100\n",
            "1/1 [==============================] - 0s 43ms/step - loss: 0.0015 - val_loss: 3.3987e-04\n",
            "Epoch 16/100\n",
            "1/1 [==============================] - 0s 41ms/step - loss: 0.0017 - val_loss: 3.8975e-04\n",
            "Epoch 17/100\n",
            "1/1 [==============================] - 0s 40ms/step - loss: 0.0017 - val_loss: 5.6378e-04\n",
            "Epoch 18/100\n",
            "1/1 [==============================] - 0s 40ms/step - loss: 0.0013 - val_loss: 8.8999e-04\n",
            "Epoch 19/100\n",
            "1/1 [==============================] - 0s 39ms/step - loss: 8.5597e-04 - val_loss: 0.0014\n",
            "Epoch 20/100\n",
            "1/1 [==============================] - 0s 40ms/step - loss: 4.1710e-04 - val_loss: 0.0021\n",
            "Epoch 21/100\n",
            "1/1 [==============================] - 0s 38ms/step - loss: 1.1027e-04 - val_loss: 0.0030\n",
            "Epoch 22/100\n",
            "1/1 [==============================] - 0s 39ms/step - loss: 1.1036e-07 - val_loss: 0.0039\n",
            "Epoch 23/100\n",
            "1/1 [==============================] - 0s 43ms/step - loss: 8.3263e-05 - val_loss: 0.0048\n",
            "Epoch 24/100\n",
            "1/1 [==============================] - 0s 52ms/step - loss: 2.8364e-04 - val_loss: 0.0054\n",
            "Epoch 25/100\n",
            "1/1 [==============================] - 0s 41ms/step - loss: 4.8036e-04 - val_loss: 0.0057\n",
            "Epoch 26/100\n",
            "1/1 [==============================] - 0s 39ms/step - loss: 5.6972e-04 - val_loss: 0.0056\n",
            "Epoch 27/100\n",
            "1/1 [==============================] - 0s 39ms/step - loss: 5.1887e-04 - val_loss: 0.0052\n",
            "Epoch 28/100\n",
            "1/1 [==============================] - 0s 40ms/step - loss: 3.6885e-04 - val_loss: 0.0046\n",
            "Epoch 29/100\n",
            "1/1 [==============================] - 0s 38ms/step - loss: 1.9514e-04 - val_loss: 0.0040\n",
            "Epoch 30/100\n",
            "1/1 [==============================] - 0s 37ms/step - loss: 6.3016e-05 - val_loss: 0.0034\n",
            "Epoch 31/100\n",
            "1/1 [==============================] - 0s 39ms/step - loss: 3.5315e-06 - val_loss: 0.0029\n",
            "Epoch 32/100\n",
            "1/1 [==============================] - 0s 38ms/step - loss: 1.3058e-05 - val_loss: 0.0025\n",
            "Epoch 33/100\n",
            "1/1 [==============================] - 0s 46ms/step - loss: 6.6132e-05 - val_loss: 0.0023\n",
            "Epoch 34/100\n",
            "1/1 [==============================] - 0s 47ms/step - loss: 1.3077e-04 - val_loss: 0.0021\n",
            "Epoch 35/100\n",
            "1/1 [==============================] - 0s 37ms/step - loss: 1.8008e-04 - val_loss: 0.0021\n",
            "Epoch 36/100\n",
            "1/1 [==============================] - 0s 37ms/step - loss: 1.9845e-04 - val_loss: 0.0021\n",
            "Epoch 37/100\n",
            "1/1 [==============================] - 0s 37ms/step - loss: 1.8295e-04 - val_loss: 0.0023\n",
            "Epoch 38/100\n",
            "1/1 [==============================] - 0s 36ms/step - loss: 1.4140e-04 - val_loss: 0.0025\n",
            "Epoch 39/100\n",
            "1/1 [==============================] - 0s 36ms/step - loss: 8.8238e-05 - val_loss: 0.0028\n",
            "Epoch 40/100\n",
            "1/1 [==============================] - 0s 39ms/step - loss: 3.9594e-05 - val_loss: 0.0031\n",
            "Epoch 41/100\n",
            "1/1 [==============================] - 0s 39ms/step - loss: 8.3198e-06 - val_loss: 0.0034\n",
            "Epoch 42/100\n",
            "1/1 [==============================] - 0s 59ms/step - loss: 2.6169e-07 - val_loss: 0.0037\n",
            "Epoch 43/100\n",
            "1/1 [==============================] - 0s 41ms/step - loss: 1.2805e-05 - val_loss: 0.0040\n",
            "Epoch 44/100\n",
            "1/1 [==============================] - 0s 37ms/step - loss: 3.6398e-05 - val_loss: 0.0042\n",
            "Epoch 45/100\n",
            "1/1 [==============================] - 0s 35ms/step - loss: 5.8708e-05 - val_loss: 0.0042\n",
            "Epoch 46/100\n",
            "1/1 [==============================] - 0s 37ms/step - loss: 6.9770e-05 - val_loss: 0.0042\n",
            "Epoch 47/100\n",
            "1/1 [==============================] - 0s 38ms/step - loss: 6.5737e-05 - val_loss: 0.0041\n",
            "Epoch 48/100\n",
            "1/1 [==============================] - 0s 55ms/step - loss: 4.9556e-05 - val_loss: 0.0039\n",
            "Epoch 49/100\n",
            "1/1 [==============================] - 0s 44ms/step - loss: 2.8575e-05 - val_loss: 0.0037\n",
            "Epoch 50/100\n",
            "1/1 [==============================] - 0s 38ms/step - loss: 1.0706e-05 - val_loss: 0.0035\n",
            "Epoch 51/100\n",
            "1/1 [==============================] - 0s 39ms/step - loss: 1.1587e-06 - val_loss: 0.0033\n",
            "Epoch 52/100\n",
            "1/1 [==============================] - 0s 37ms/step - loss: 1.0072e-06 - val_loss: 0.0032\n",
            "Epoch 53/100\n",
            "1/1 [==============================] - 0s 37ms/step - loss: 7.6900e-06 - val_loss: 0.0030\n",
            "Epoch 54/100\n",
            "1/1 [==============================] - 0s 37ms/step - loss: 1.6739e-05 - val_loss: 0.0030\n",
            "Epoch 55/100\n",
            "1/1 [==============================] - 0s 38ms/step - loss: 2.3778e-05 - val_loss: 0.0030\n",
            "Epoch 56/100\n",
            "1/1 [==============================] - 0s 39ms/step - loss: 2.6045e-05 - val_loss: 0.0030\n",
            "Epoch 57/100\n",
            "1/1 [==============================] - 0s 40ms/step - loss: 2.3052e-05 - val_loss: 0.0031\n",
            "Epoch 58/100\n",
            "1/1 [==============================] - 0s 43ms/step - loss: 1.6351e-05 - val_loss: 0.0032\n",
            "Epoch 59/100\n",
            "1/1 [==============================] - 0s 42ms/step - loss: 8.6543e-06 - val_loss: 0.0033\n",
            "Epoch 60/100\n",
            "1/1 [==============================] - 0s 40ms/step - loss: 2.6662e-06 - val_loss: 0.0034\n",
            "Epoch 61/100\n",
            "1/1 [==============================] - 0s 39ms/step - loss: 7.1424e-08 - val_loss: 0.0035\n",
            "Epoch 62/100\n",
            "1/1 [==============================] - 0s 39ms/step - loss: 1.0125e-06 - val_loss: 0.0037\n",
            "Epoch 63/100\n",
            "1/1 [==============================] - 0s 39ms/step - loss: 4.2270e-06 - val_loss: 0.0037\n",
            "Epoch 64/100\n",
            "1/1 [==============================] - 0s 39ms/step - loss: 7.7419e-06 - val_loss: 0.0038\n",
            "Epoch 65/100\n",
            "1/1 [==============================] - 0s 42ms/step - loss: 9.7921e-06 - val_loss: 0.0038\n",
            "Epoch 66/100\n",
            "1/1 [==============================] - 0s 39ms/step - loss: 9.5386e-06 - val_loss: 0.0037\n",
            "Epoch 67/100\n",
            "1/1 [==============================] - 0s 41ms/step - loss: 7.2837e-06 - val_loss: 0.0037\n",
            "Epoch 68/100\n",
            "1/1 [==============================] - 0s 38ms/step - loss: 4.1513e-06 - val_loss: 0.0036\n",
            "Epoch 69/100\n",
            "1/1 [==============================] - 0s 42ms/step - loss: 1.4555e-06 - val_loss: 0.0035\n",
            "Epoch 70/100\n",
            "1/1 [==============================] - 0s 37ms/step - loss: 1.0107e-07 - val_loss: 0.0034\n",
            "Epoch 71/100\n",
            "1/1 [==============================] - 0s 44ms/step - loss: 2.7109e-07 - val_loss: 0.0033\n",
            "Epoch 72/100\n",
            "1/1 [==============================] - 0s 40ms/step - loss: 1.4845e-06 - val_loss: 0.0033\n",
            "Epoch 73/100\n",
            "1/1 [==============================] - 0s 37ms/step - loss: 2.9215e-06 - val_loss: 0.0033\n",
            "Epoch 74/100\n",
            "1/1 [==============================] - 0s 41ms/step - loss: 3.8285e-06 - val_loss: 0.0033\n",
            "Epoch 75/100\n",
            "1/1 [==============================] - 0s 40ms/step - loss: 3.8202e-06 - val_loss: 0.0033\n",
            "Epoch 76/100\n",
            "1/1 [==============================] - 0s 38ms/step - loss: 2.9761e-06 - val_loss: 0.0033\n",
            "Epoch 77/100\n",
            "1/1 [==============================] - 0s 37ms/step - loss: 1.7279e-06 - val_loss: 0.0034\n",
            "Epoch 78/100\n",
            "1/1 [==============================] - 0s 42ms/step - loss: 6.1764e-07 - val_loss: 0.0034\n",
            "Epoch 79/100\n",
            "1/1 [==============================] - 0s 39ms/step - loss: 4.4874e-08 - val_loss: 0.0035\n",
            "Epoch 80/100\n",
            "1/1 [==============================] - 0s 43ms/step - loss: 1.1225e-07 - val_loss: 0.0035\n",
            "Epoch 81/100\n",
            "1/1 [==============================] - 0s 40ms/step - loss: 6.2462e-07 - val_loss: 0.0036\n",
            "Epoch 82/100\n",
            "1/1 [==============================] - 0s 56ms/step - loss: 1.2221e-06 - val_loss: 0.0036\n",
            "Epoch 83/100\n",
            "1/1 [==============================] - 0s 50ms/step - loss: 1.5705e-06 - val_loss: 0.0036\n",
            "Epoch 84/100\n",
            "1/1 [==============================] - 0s 43ms/step - loss: 1.5117e-06 - val_loss: 0.0036\n",
            "Epoch 85/100\n",
            "1/1 [==============================] - 0s 38ms/step - loss: 1.1083e-06 - val_loss: 0.0035\n",
            "Epoch 86/100\n",
            "1/1 [==============================] - 0s 39ms/step - loss: 5.7654e-07 - val_loss: 0.0035\n",
            "Epoch 87/100\n",
            "1/1 [==============================] - 0s 37ms/step - loss: 1.5784e-07 - val_loss: 0.0035\n",
            "Epoch 88/100\n",
            "1/1 [==============================] - 0s 38ms/step - loss: 3.7583e-10 - val_loss: 0.0034\n",
            "Epoch 89/100\n",
            "1/1 [==============================] - 0s 39ms/step - loss: 1.0542e-07 - val_loss: 0.0034\n",
            "Epoch 90/100\n",
            "1/1 [==============================] - 0s 39ms/step - loss: 3.5290e-07 - val_loss: 0.0034\n",
            "Epoch 91/100\n",
            "1/1 [==============================] - 0s 38ms/step - loss: 5.7926e-07 - val_loss: 0.0034\n",
            "Epoch 92/100\n",
            "1/1 [==============================] - 0s 37ms/step - loss: 6.6212e-07 - val_loss: 0.0034\n",
            "Epoch 93/100\n",
            "1/1 [==============================] - 0s 39ms/step - loss: 5.7061e-07 - val_loss: 0.0034\n",
            "Epoch 94/100\n",
            "1/1 [==============================] - 0s 41ms/step - loss: 3.6442e-07 - val_loss: 0.0034\n",
            "Epoch 95/100\n",
            "1/1 [==============================] - 0s 37ms/step - loss: 1.4953e-07 - val_loss: 0.0035\n",
            "Epoch 96/100\n",
            "1/1 [==============================] - 0s 38ms/step - loss: 1.9254e-08 - val_loss: 0.0035\n",
            "Epoch 97/100\n",
            "1/1 [==============================] - 0s 38ms/step - loss: 1.0902e-08 - val_loss: 0.0035\n",
            "Epoch 98/100\n",
            "1/1 [==============================] - 0s 39ms/step - loss: 9.6463e-08 - val_loss: 0.0035\n",
            "Epoch 99/100\n",
            "1/1 [==============================] - 0s 41ms/step - loss: 2.0709e-07 - val_loss: 0.0035\n",
            "Epoch 100/100\n",
            "1/1 [==============================] - 0s 39ms/step - loss: 2.7426e-07 - val_loss: 0.0035\n"
          ]
        },
        {
          "output_type": "execute_result",
          "data": {
            "text/plain": [
              "<keras.callbacks.History at 0x7efbd42cedf0>"
            ]
          },
          "metadata": {},
          "execution_count": 42
        }
      ]
    },
    {
      "cell_type": "code",
      "source": [
        "import tensorflow as tf"
      ],
      "metadata": {
        "id": "qZrUEbeabjmb"
      },
      "execution_count": 43,
      "outputs": []
    },
    {
      "cell_type": "code",
      "source": [
        "train_predict=model.predict(X_train)\n",
        "test_predict=model.predict(X_test)"
      ],
      "metadata": {
        "colab": {
          "base_uri": "https://localhost:8080/"
        },
        "id": "yFD3QH3Ob5qf",
        "outputId": "a6736ef6-7ca9-4715-cf14-63661dda1405"
      },
      "execution_count": 44,
      "outputs": [
        {
          "output_type": "stream",
          "name": "stdout",
          "text": [
            "1/1 [==============================] - 1s 909ms/step\n",
            "1/1 [==============================] - 0s 17ms/step\n"
          ]
        }
      ]
    },
    {
      "cell_type": "code",
      "source": [
        "train_predict=scaler.inverse_transform(train_predict)\n",
        "test_predict=scaler.inverse_transform(test_predict)"
      ],
      "metadata": {
        "id": "0mL86KMncMTW"
      },
      "execution_count": 45,
      "outputs": []
    },
    {
      "cell_type": "code",
      "source": [
        "#rmse calculation\n",
        "import math\n",
        "from sklearn.metrics import mean_squared_error\n",
        "math.sqrt(mean_squared_error(y_train,train_predict))"
      ],
      "metadata": {
        "colab": {
          "base_uri": "https://localhost:8080/"
        },
        "id": "pWsoCrj4cdHb",
        "outputId": "2d7b550d-547e-49ad-e10f-ea62cf49ed5c"
      },
      "execution_count": 46,
      "outputs": [
        {
          "output_type": "execute_result",
          "data": {
            "text/plain": [
              "184.4407924495881"
            ]
          },
          "metadata": {},
          "execution_count": 46
        }
      ]
    },
    {
      "cell_type": "code",
      "source": [
        "#test data rmse\n",
        "math.sqrt(mean_squared_error(y_test,test_predict))"
      ],
      "metadata": {
        "colab": {
          "base_uri": "https://localhost:8080/"
        },
        "id": "CfE25JFrcqQr",
        "outputId": "6d7c3a7c-cb25-43be-8788-db90cbb7901f"
      },
      "execution_count": 47,
      "outputs": [
        {
          "output_type": "execute_result",
          "data": {
            "text/plain": [
              "170.40308731681046"
            ]
          },
          "metadata": {},
          "execution_count": 47
        }
      ]
    },
    {
      "cell_type": "code",
      "source": [
        "#plotting \n",
        "look_back=100 #time_step\n",
        "\n",
        "#shift train prediction for plotting\n",
        "trainPredictPlot=np.empty_like(df1)\n",
        "trainPredictPlot[:,:]=np.nan\n",
        "trainPredictPlot[look_back:len(train_predict)+look_back,:]=train_predict\n",
        "\n",
        "#shift test prediction for plotting \n",
        "testPredictPlot=np.empty_like(df1)\n",
        "testPredictPlot[:,:]=np.nan\n",
        "testPredictPlot[len(train_predict)+(look_back*2)+1:len(df1)-1,:]=test_predict\n",
        "\n",
        "#plot baseline and predictions\n",
        "plt.plot(scaler.inverse_transform(df1))\n",
        "plt.plot(trainPredictPlot)\n",
        "plt.plot(testPredictPlot)\n",
        "plt.show()"
      ],
      "metadata": {
        "colab": {
          "base_uri": "https://localhost:8080/",
          "height": 265
        },
        "id": "2L_aITh8c6Mo",
        "outputId": "9097d6ef-71fc-45a3-c47f-2c93148326b7"
      },
      "execution_count": 48,
      "outputs": [
        {
          "output_type": "display_data",
          "data": {
            "text/plain": [
              "<Figure size 432x288 with 1 Axes>"
            ],
            "image/png": "[encoded data removed]"
          },
          "metadata": {
            "needs_background": "light"
          }
        }
      ]
    },
    {
      "cell_type": "code",
      "source": [],
      "metadata": {
        "id": "fFcXO0iOe1mA"
      },
      "execution_count": null,
      "outputs": []
    }
  ]
}