{
  "metadata": {
    "kernelspec": {
      "language": "python",
      "display_name": "Python 3",
      "name": "python3"
    },
    "language_info": {
      "name": "python",
      "version": "3.7.12",
      "mimetype": "text/x-python",
      "codemirror_mode": {
        "name": "ipython",
        "version": 3
      },
      "pygments_lexer": "ipython3",
      "nbconvert_exporter": "python",
      "file_extension": ".py"
    },
    "colab": {
      "provenance": []
    },
    "accelerator": "GPU",
    "gpuClass": "standard"
  },
  "nbformat_minor": 0,
  "nbformat": 4,
  "cells": [
    {
      "cell_type": "code",
      "source": [
        "import pandas as pd\n",
        "import numpy as np\n",
        "import matplotlib.pyplot as plt\n",
        "%matplotlib inline"
      ],
      "metadata": {
        "execution": {
          "iopub.status.busy": "2023-02-10T15:31:01.600898Z",
          "iopub.status.idle": "2023-02-10T15:31:01.601753Z",
          "shell.execute_reply.started": "2023-02-10T15:31:01.601458Z",
          "shell.execute_reply": "2023-02-10T15:31:01.601481Z"
        },
        "trusted": true,
        "id": "kcIVpXYw9Uyu"
      },
      "execution_count": 1,
      "outputs": []
    },
    {
      "cell_type": "code",
      "source": [
        "import tensorflow as tf\n",
        "from zipfile import ZipFile\n",
        "import os\n",
        "\n",
        "uri = \"https://storage.googleapis.com/tensorflow/tf-keras-datasets/jena_climate_2009_2016.csv.zip\"\n",
        "zip_path = tf.keras.utils.get_file(origin=uri, fname=\"jena_climate_2009_2016.csv.zip\")\n",
        "zip_file = ZipFile(zip_path)\n",
        "zip_file.extractall()\n",
        "csv_path = \"jena_climate_2009_2016.csv\"\n",
        "\n",
        "df = pd.read_csv(csv_path)"
      ],
      "metadata": {
        "execution": {
          "iopub.status.busy": "2023-02-10T15:31:01.603098Z",
          "iopub.status.idle": "2023-02-10T15:31:01.603917Z",
          "shell.execute_reply.started": "2023-02-10T15:31:01.603659Z",
          "shell.execute_reply": "2023-02-10T15:31:01.603683Z"
        },
        "trusted": true,
        "colab": {
          "base_uri": "https://localhost:8080/"
        },
        "id": "zEMmODRl9Uyx",
        "outputId": "fd0a4222-455a-482a-cc74-50cb0095c5b8"
      },
      "execution_count": 2,
      "outputs": [
        {
          "output_type": "stream",
          "name": "stdout",
          "text": [
            "Downloading data from https://storage.googleapis.com/tensorflow/tf-keras-datasets/jena_climate_2009_2016.csv.zip\n",
            "13568290/13568290 [==============================] - 1s 0us/step\n"
          ]
        }
      ]
    },
    {
      "cell_type": "code",
      "source": [
        "df.head()"
      ],
      "metadata": {
        "execution": {
          "iopub.status.busy": "2023-02-10T15:31:01.624974Z",
          "iopub.execute_input": "2023-02-10T15:31:01.625876Z",
          "iopub.status.idle": "2023-02-10T15:31:01.643160Z",
          "shell.execute_reply.started": "2023-02-10T15:31:01.625842Z",
          "shell.execute_reply": "2023-02-10T15:31:01.641892Z"
        },
        "trusted": true,
        "colab": {
          "base_uri": "https://localhost:8080/",
          "height": 354
        },
        "id": "MBy68S-W9Uyy",
        "outputId": "6c96e281-d290-4bf7-9ff9-a00752457e51"
      },
      "execution_count": 3,
      "outputs": [
        {
          "output_type": "execute_result",
          "data": {
            "text/plain": [
              "             Date Time  p (mbar)  T (degC)  Tpot (K)  Tdew (degC)  rh (%)  \\\n",
              "0  01.01.2009 00:10:00    996.52     -8.02    265.40        -8.90    93.3   \n",
              "1  01.01.2009 00:20:00    996.57     -8.41    265.01        -9.28    93.4   \n",
              "2  01.01.2009 00:30:00    996.53     -8.51    264.91        -9.31    93.9   \n",
              "3  01.01.2009 00:40:00    996.51     -8.31    265.12        -9.07    94.2   \n",
              "4  01.01.2009 00:50:00    996.51     -8.27    265.15        -9.04    94.1   \n",
              "\n",
              "   VPmax (mbar)  VPact (mbar)  VPdef (mbar)  sh (g/kg)  H2OC (mmol/mol)  \\\n",
              "0          3.33          3.11          0.22       1.94             3.12   \n",
              "1          3.23          3.02          0.21       1.89             3.03   \n",
              "2          3.21          3.01          0.20       1.88             3.02   \n",
              "3          3.26          3.07          0.19       1.92             3.08   \n",
              "4          3.27          3.08          0.19       1.92             3.09   \n",
              "\n",
              "   rho (g/m**3)  wv (m/s)  max. wv (m/s)  wd (deg)  \n",
              "0       1307.75      1.03           1.75     152.3  \n",
              "1       1309.80      0.72           1.50     136.1  \n",
              "2       1310.24      0.19           0.63     171.6  \n",
              "3       1309.19      0.34           0.50     198.0  \n",
              "4       1309.00      0.32           0.63     214.3  "
            ],
            "text/html": [
              "\n",
              "  <div id=\"df-6087fb82-469f-48e0-8908-e3e6f7f4a80e\">\n",
              "    <div class=\"colab-df-container\">\n",
              "      <div>\n",
              "<style scoped>\n",
              "    .dataframe tbody tr th:only-of-type {\n",
              "        vertical-align: middle;\n",
              "    }\n",
              "\n",
              "    .dataframe tbody tr th {\n",
              "        vertical-align: top;\n",
              "    }\n",
              "\n",
              "    .dataframe thead th {\n",
              "        text-align: right;\n",
              "    }\n",
              "</style>\n",
              "<table border=\"1\" class=\"dataframe\">\n",
              "  <thead>\n",
              "    <tr style=\"text-align: right;\">\n",
              "      <th></th>\n",
              "      <th>Date Time</th>\n",
              "      <th>p (mbar)</th>\n",
              "      <th>T (degC)</th>\n",
              "      <th>Tpot (K)</th>\n",
              "      <th>Tdew (degC)</th>\n",
              "      <th>rh (%)</th>\n",
              "      <th>VPmax (mbar)</th>\n",
              "      <th>VPact (mbar)</th>\n",
              "      <th>VPdef (mbar)</th>\n",
              "      <th>sh (g/kg)</th>\n",
              "      <th>H2OC (mmol/mol)</th>\n",
              "      <th>rho (g/m**3)</th>\n",
              "      <th>wv (m/s)</th>\n",
              "      <th>max. wv (m/s)</th>\n",
              "      <th>wd (deg)</th>\n",
              "    </tr>\n",
              "  </thead>\n",
              "  <tbody>\n",
              "    <tr>\n",
              "      <th>0</th>\n",
              "      <td>01.01.2009 00:10:00</td>\n",
              "      <td>996.52</td>\n",
              "      <td>-8.02</td>\n",
              "      <td>265.40</td>\n",
              "      <td>-8.90</td>\n",
              "      <td>93.3</td>\n",
              "      <td>3.33</td>\n",
              "      <td>3.11</td>\n",
              "      <td>0.22</td>\n",
              "      <td>1.94</td>\n",
              "      <td>3.12</td>\n",
              "      <td>1307.75</td>\n",
              "      <td>1.03</td>\n",
              "      <td>1.75</td>\n",
              "      <td>152.3</td>\n",
              "    </tr>\n",
              "    <tr>\n",
              "      <th>1</th>\n",
              "      <td>01.01.2009 00:20:00</td>\n",
              "      <td>996.57</td>\n",
              "      <td>-8.41</td>\n",
              "      <td>265.01</td>\n",
              "      <td>-9.28</td>\n",
              "      <td>93.4</td>\n",
              "      <td>3.23</td>\n",
              "      <td>3.02</td>\n",
              "      <td>0.21</td>\n",
              "      <td>1.89</td>\n",
              "      <td>3.03</td>\n",
              "      <td>1309.80</td>\n",
              "      <td>0.72</td>\n",
              "      <td>1.50</td>\n",
              "      <td>136.1</td>\n",
              "    </tr>\n",
              "    <tr>\n",
              "      <th>2</th>\n",
              "      <td>01.01.2009 00:30:00</td>\n",
              "      <td>996.53</td>\n",
              "      <td>-8.51</td>\n",
              "      <td>264.91</td>\n",
              "      <td>-9.31</td>\n",
              "      <td>93.9</td>\n",
              "      <td>3.21</td>\n",
              "      <td>3.01</td>\n",
              "      <td>0.20</td>\n",
              "      <td>1.88</td>\n",
              "      <td>3.02</td>\n",
              "      <td>1310.24</td>\n",
              "      <td>0.19</td>\n",
              "      <td>0.63</td>\n",
              "      <td>171.6</td>\n",
              "    </tr>\n",
              "    <tr>\n",
              "      <th>3</th>\n",
              "      <td>01.01.2009 00:40:00</td>\n",
              "      <td>996.51</td>\n",
              "      <td>-8.31</td>\n",
              "      <td>265.12</td>\n",
              "      <td>-9.07</td>\n",
              "      <td>94.2</td>\n",
              "      <td>3.26</td>\n",
              "      <td>3.07</td>\n",
              "      <td>0.19</td>\n",
              "      <td>1.92</td>\n",
              "      <td>3.08</td>\n",
              "      <td>1309.19</td>\n",
              "      <td>0.34</td>\n",
              "      <td>0.50</td>\n",
              "      <td>198.0</td>\n",
              "    </tr>\n",
              "    <tr>\n",
              "      <th>4</th>\n",
              "      <td>01.01.2009 00:50:00</td>\n",
              "      <td>996.51</td>\n",
              "      <td>-8.27</td>\n",
              "      <td>265.15</td>\n",
              "      <td>-9.04</td>\n",
              "      <td>94.1</td>\n",
              "      <td>3.27</td>\n",
              "      <td>3.08</td>\n",
              "      <td>0.19</td>\n",
              "      <td>1.92</td>\n",
              "      <td>3.09</td>\n",
              "      <td>1309.00</td>\n",
              "      <td>0.32</td>\n",
              "      <td>0.63</td>\n",
              "      <td>214.3</td>\n",
              "    </tr>\n",
              "  </tbody>\n",
              "</table>\n",
              "</div>\n",
              "      <button class=\"colab-df-convert\" onclick=\"convertToInteractive('df-6087fb82-469f-48e0-8908-e3e6f7f4a80e')\"\n",
              "              title=\"Convert this dataframe to an interactive table.\"\n",
              "              style=\"display:none;\">\n",
              "        \n",
              "  <svg xmlns=\"http://www.w3.org/2000/svg\" height=\"24px\"viewBox=\"0 0 24 24\"\n",
              "       width=\"24px\">\n",
              "    <path d=\"M0 0h24v24H0V0z\" fill=\"none\"/>\n",
              "    <path d=\"M18.56 5.44l.94 2.06.94-2.06 2.06-.94-2.06-.94-.94-2.06-.94 2.06-2.06.94zm-11 1L8.5 8.5l.94-2.06 2.06-.94-2.06-.94L8.5 2.5l-.94 2.06-2.06.94zm10 10l.94 2.06.94-2.06 2.06-.94-2.06-.94-.94-2.06-.94 2.06-2.06.94z\"/><path d=\"M17.41 7.96l-1.37-1.37c-.4-.4-.92-.59-1.43-.59-.52 0-1.04.2-1.43.59L10.3 9.45l-7.72 7.72c-.78.78-.78 2.05 0 2.83L4 21.41c.39.39.9.59 1.41.59.51 0 1.02-.2 1.41-.59l7.78-7.78 2.81-2.81c.8-.78.8-2.07 0-2.86zM5.41 20L4 18.59l7.72-7.72 1.47 1.35L5.41 20z\"/>\n",
              "  </svg>\n",
              "      </button>\n",
              "      \n",
              "  <style>\n",
              "    .colab-df-container {\n",
              "      display:flex;\n",
              "      flex-wrap:wrap;\n",
              "      gap: 12px;\n",
              "    }\n",
              "\n",
              "    .colab-df-convert {\n",
              "      background-color: #E8F0FE;\n",
              "      border: none;\n",
              "      border-radius: 50%;\n",
              "      cursor: pointer;\n",
              "      display: none;\n",
              "      fill: #1967D2;\n",
              "      height: 32px;\n",
              "      padding: 0 0 0 0;\n",
              "      width: 32px;\n",
              "    }\n",
              "\n",
              "    .colab-df-convert:hover {\n",
              "      background-color: #E2EBFA;\n",
              "      box-shadow: 0px 1px 2px rgba(60, 64, 67, 0.3), 0px 1px 3px 1px rgba(60, 64, 67, 0.15);\n",
              "      fill: #174EA6;\n",
              "    }\n",
              "\n",
              "    [theme=dark] .colab-df-convert {\n",
              "      background-color: #3B4455;\n",
              "      fill: #D2E3FC;\n",
              "    }\n",
              "\n",
              "    [theme=dark] .colab-df-convert:hover {\n",
              "      background-color: #434B5C;\n",
              "      box-shadow: 0px 1px 3px 1px rgba(0, 0, 0, 0.15);\n",
              "      filter: drop-shadow(0px 1px 2px rgba(0, 0, 0, 0.3));\n",
              "      fill: #FFFFFF;\n",
              "    }\n",
              "  </style>\n",
              "\n",
              "      <script>\n",
              "        const buttonEl =\n",
              "          document.querySelector('#df-6087fb82-469f-48e0-8908-e3e6f7f4a80e button.colab-df-convert');\n",
              "        buttonEl.style.display =\n",
              "          google.colab.kernel.accessAllowed ? 'block' : 'none';\n",
              "\n",
              "        async function convertToInteractive(key) {\n",
              "          const element = document.querySelector('#df-6087fb82-469f-48e0-8908-e3e6f7f4a80e');\n",
              "          const dataTable =\n",
              "            await google.colab.kernel.invokeFunction('convertToInteractive',\n",
              "                                                     [key], {});\n",
              "          if (!dataTable) return;\n",
              "\n",
              "          const docLinkHtml = 'Like what you see? Visit the ' +\n",
              "            '<a target=\"_blank\" href=https://colab.research.google.com/notebooks/data_table.ipynb>data table notebook</a>'\n",
              "            + ' to learn more about interactive tables.';\n",
              "          element.innerHTML = '';\n",
              "          dataTable['output_type'] = 'display_data';\n",
              "          await google.colab.output.renderOutput(dataTable, element);\n",
              "          const docLink = document.createElement('div');\n",
              "          docLink.innerHTML = docLinkHtml;\n",
              "          element.appendChild(docLink);\n",
              "        }\n",
              "      </script>\n",
              "    </div>\n",
              "  </div>\n",
              "  "
            ]
          },
          "metadata": {},
          "execution_count": 3
        }
      ]
    },
    {
      "cell_type": "code",
      "source": [
        "df['Date Time']=pd.to_datetime(df['Date Time'])"
      ],
      "metadata": {
        "execution": {
          "iopub.status.busy": "2023-02-10T15:31:01.662397Z",
          "iopub.execute_input": "2023-02-10T15:31:01.662787Z",
          "iopub.status.idle": "2023-02-10T15:31:01.678550Z",
          "shell.execute_reply.started": "2023-02-10T15:31:01.662751Z",
          "shell.execute_reply": "2023-02-10T15:31:01.676830Z"
        },
        "trusted": true,
        "id": "gHIbDnZN9Uyz"
      },
      "execution_count": 4,
      "outputs": []
    },
    {
      "cell_type": "code",
      "source": [
        "df.head()"
      ],
      "metadata": {
        "execution": {
          "iopub.status.busy": "2023-02-10T15:31:01.699953Z",
          "iopub.execute_input": "2023-02-10T15:31:01.700639Z",
          "iopub.status.idle": "2023-02-10T15:31:01.717771Z",
          "shell.execute_reply.started": "2023-02-10T15:31:01.700603Z",
          "shell.execute_reply": "2023-02-10T15:31:01.715954Z"
        },
        "trusted": true,
        "colab": {
          "base_uri": "https://localhost:8080/",
          "height": 354
        },
        "id": "g65iEzQf9Uy0",
        "outputId": "c1d80271-0cba-4200-f563-6cfb917acdb7"
      },
      "execution_count": 5,
      "outputs": [
        {
          "output_type": "execute_result",
          "data": {
            "text/plain": [
              "            Date Time  p (mbar)  T (degC)  Tpot (K)  Tdew (degC)  rh (%)  \\\n",
              "0 2009-01-01 00:10:00    996.52     -8.02    265.40        -8.90    93.3   \n",
              "1 2009-01-01 00:20:00    996.57     -8.41    265.01        -9.28    93.4   \n",
              "2 2009-01-01 00:30:00    996.53     -8.51    264.91        -9.31    93.9   \n",
              "3 2009-01-01 00:40:00    996.51     -8.31    265.12        -9.07    94.2   \n",
              "4 2009-01-01 00:50:00    996.51     -8.27    265.15        -9.04    94.1   \n",
              "\n",
              "   VPmax (mbar)  VPact (mbar)  VPdef (mbar)  sh (g/kg)  H2OC (mmol/mol)  \\\n",
              "0          3.33          3.11          0.22       1.94             3.12   \n",
              "1          3.23          3.02          0.21       1.89             3.03   \n",
              "2          3.21          3.01          0.20       1.88             3.02   \n",
              "3          3.26          3.07          0.19       1.92             3.08   \n",
              "4          3.27          3.08          0.19       1.92             3.09   \n",
              "\n",
              "   rho (g/m**3)  wv (m/s)  max. wv (m/s)  wd (deg)  \n",
              "0       1307.75      1.03           1.75     152.3  \n",
              "1       1309.80      0.72           1.50     136.1  \n",
              "2       1310.24      0.19           0.63     171.6  \n",
              "3       1309.19      0.34           0.50     198.0  \n",
              "4       1309.00      0.32           0.63     214.3  "
            ],
            "text/html": [
              "\n",
              "  <div id=\"df-2b31a4a3-2b04-476f-aeda-4377d61d5ec8\">\n",
              "    <div class=\"colab-df-container\">\n",
              "      <div>\n",
              "<style scoped>\n",
              "    .dataframe tbody tr th:only-of-type {\n",
              "        vertical-align: middle;\n",
              "    }\n",
              "\n",
              "    .dataframe tbody tr th {\n",
              "        vertical-align: top;\n",
              "    }\n",
              "\n",
              "    .dataframe thead th {\n",
              "        text-align: right;\n",
              "    }\n",
              "</style>\n",
              "<table border=\"1\" class=\"dataframe\">\n",
              "  <thead>\n",
              "    <tr style=\"text-align: right;\">\n",
              "      <th></th>\n",
              "      <th>Date Time</th>\n",
              "      <th>p (mbar)</th>\n",
              "      <th>T (degC)</th>\n",
              "      <th>Tpot (K)</th>\n",
              "      <th>Tdew (degC)</th>\n",
              "      <th>rh (%)</th>\n",
              "      <th>VPmax (mbar)</th>\n",
              "      <th>VPact (mbar)</th>\n",
              "      <th>VPdef (mbar)</th>\n",
              "      <th>sh (g/kg)</th>\n",
              "      <th>H2OC (mmol/mol)</th>\n",
              "      <th>rho (g/m**3)</th>\n",
              "      <th>wv (m/s)</th>\n",
              "      <th>max. wv (m/s)</th>\n",
              "      <th>wd (deg)</th>\n",
              "    </tr>\n",
              "  </thead>\n",
              "  <tbody>\n",
              "    <tr>\n",
              "      <th>0</th>\n",
              "      <td>2009-01-01 00:10:00</td>\n",
              "      <td>996.52</td>\n",
              "      <td>-8.02</td>\n",
              "      <td>265.40</td>\n",
              "      <td>-8.90</td>\n",
              "      <td>93.3</td>\n",
              "      <td>3.33</td>\n",
              "      <td>3.11</td>\n",
              "      <td>0.22</td>\n",
              "      <td>1.94</td>\n",
              "      <td>3.12</td>\n",
              "      <td>1307.75</td>\n",
              "      <td>1.03</td>\n",
              "      <td>1.75</td>\n",
              "      <td>152.3</td>\n",
              "    </tr>\n",
              "    <tr>\n",
              "      <th>1</th>\n",
              "      <td>2009-01-01 00:20:00</td>\n",
              "      <td>996.57</td>\n",
              "      <td>-8.41</td>\n",
              "      <td>265.01</td>\n",
              "      <td>-9.28</td>\n",
              "      <td>93.4</td>\n",
              "      <td>3.23</td>\n",
              "      <td>3.02</td>\n",
              "      <td>0.21</td>\n",
              "      <td>1.89</td>\n",
              "      <td>3.03</td>\n",
              "      <td>1309.80</td>\n",
              "      <td>0.72</td>\n",
              "      <td>1.50</td>\n",
              "      <td>136.1</td>\n",
              "    </tr>\n",
              "    <tr>\n",
              "      <th>2</th>\n",
              "      <td>2009-01-01 00:30:00</td>\n",
              "      <td>996.53</td>\n",
              "      <td>-8.51</td>\n",
              "      <td>264.91</td>\n",
              "      <td>-9.31</td>\n",
              "      <td>93.9</td>\n",
              "      <td>3.21</td>\n",
              "      <td>3.01</td>\n",
              "      <td>0.20</td>\n",
              "      <td>1.88</td>\n",
              "      <td>3.02</td>\n",
              "      <td>1310.24</td>\n",
              "      <td>0.19</td>\n",
              "      <td>0.63</td>\n",
              "      <td>171.6</td>\n",
              "    </tr>\n",
              "    <tr>\n",
              "      <th>3</th>\n",
              "      <td>2009-01-01 00:40:00</td>\n",
              "      <td>996.51</td>\n",
              "      <td>-8.31</td>\n",
              "      <td>265.12</td>\n",
              "      <td>-9.07</td>\n",
              "      <td>94.2</td>\n",
              "      <td>3.26</td>\n",
              "      <td>3.07</td>\n",
              "      <td>0.19</td>\n",
              "      <td>1.92</td>\n",
              "      <td>3.08</td>\n",
              "      <td>1309.19</td>\n",
              "      <td>0.34</td>\n",
              "      <td>0.50</td>\n",
              "      <td>198.0</td>\n",
              "    </tr>\n",
              "    <tr>\n",
              "      <th>4</th>\n",
              "      <td>2009-01-01 00:50:00</td>\n",
              "      <td>996.51</td>\n",
              "      <td>-8.27</td>\n",
              "      <td>265.15</td>\n",
              "      <td>-9.04</td>\n",
              "      <td>94.1</td>\n",
              "      <td>3.27</td>\n",
              "      <td>3.08</td>\n",
              "      <td>0.19</td>\n",
              "      <td>1.92</td>\n",
              "      <td>3.09</td>\n",
              "      <td>1309.00</td>\n",
              "      <td>0.32</td>\n",
              "      <td>0.63</td>\n",
              "      <td>214.3</td>\n",
              "    </tr>\n",
              "  </tbody>\n",
              "</table>\n",
              "</div>\n",
              "      <button class=\"colab-df-convert\" onclick=\"convertToInteractive('df-2b31a4a3-2b04-476f-aeda-4377d61d5ec8')\"\n",
              "              title=\"Convert this dataframe to an interactive table.\"\n",
              "              style=\"display:none;\">\n",
              "        \n",
              "  <svg xmlns=\"http://www.w3.org/2000/svg\" height=\"24px\"viewBox=\"0 0 24 24\"\n",
              "       width=\"24px\">\n",
              "    <path d=\"M0 0h24v24H0V0z\" fill=\"none\"/>\n",
              "    <path d=\"M18.56 5.44l.94 2.06.94-2.06 2.06-.94-2.06-.94-.94-2.06-.94 2.06-2.06.94zm-11 1L8.5 8.5l.94-2.06 2.06-.94-2.06-.94L8.5 2.5l-.94 2.06-2.06.94zm10 10l.94 2.06.94-2.06 2.06-.94-2.06-.94-.94-2.06-.94 2.06-2.06.94z\"/><path d=\"M17.41 7.96l-1.37-1.37c-.4-.4-.92-.59-1.43-.59-.52 0-1.04.2-1.43.59L10.3 9.45l-7.72 7.72c-.78.78-.78 2.05 0 2.83L4 21.41c.39.39.9.59 1.41.59.51 0 1.02-.2 1.41-.59l7.78-7.78 2.81-2.81c.8-.78.8-2.07 0-2.86zM5.41 20L4 18.59l7.72-7.72 1.47 1.35L5.41 20z\"/>\n",
              "  </svg>\n",
              "      </button>\n",
              "      \n",
              "  <style>\n",
              "    .colab-df-container {\n",
              "      display:flex;\n",
              "      flex-wrap:wrap;\n",
              "      gap: 12px;\n",
              "    }\n",
              "\n",
              "    .colab-df-convert {\n",
              "      background-color: #E8F0FE;\n",
              "      border: none;\n",
              "      border-radius: 50%;\n",
              "      cursor: pointer;\n",
              "      display: none;\n",
              "      fill: #1967D2;\n",
              "      height: 32px;\n",
              "      padding: 0 0 0 0;\n",
              "      width: 32px;\n",
              "    }\n",
              "\n",
              "    .colab-df-convert:hover {\n",
              "      background-color: #E2EBFA;\n",
              "      box-shadow: 0px 1px 2px rgba(60, 64, 67, 0.3), 0px 1px 3px 1px rgba(60, 64, 67, 0.15);\n",
              "      fill: #174EA6;\n",
              "    }\n",
              "\n",
              "    [theme=dark] .colab-df-convert {\n",
              "      background-color: #3B4455;\n",
              "      fill: #D2E3FC;\n",
              "    }\n",
              "\n",
              "    [theme=dark] .colab-df-convert:hover {\n",
              "      background-color: #434B5C;\n",
              "      box-shadow: 0px 1px 3px 1px rgba(0, 0, 0, 0.15);\n",
              "      filter: drop-shadow(0px 1px 2px rgba(0, 0, 0, 0.3));\n",
              "      fill: #FFFFFF;\n",
              "    }\n",
              "  </style>\n",
              "\n",
              "      <script>\n",
              "        const buttonEl =\n",
              "          document.querySelector('#df-2b31a4a3-2b04-476f-aeda-4377d61d5ec8 button.colab-df-convert');\n",
              "        buttonEl.style.display =\n",
              "          google.colab.kernel.accessAllowed ? 'block' : 'none';\n",
              "\n",
              "        async function convertToInteractive(key) {\n",
              "          const element = document.querySelector('#df-2b31a4a3-2b04-476f-aeda-4377d61d5ec8');\n",
              "          const dataTable =\n",
              "            await google.colab.kernel.invokeFunction('convertToInteractive',\n",
              "                                                     [key], {});\n",
              "          if (!dataTable) return;\n",
              "\n",
              "          const docLinkHtml = 'Like what you see? Visit the ' +\n",
              "            '<a target=\"_blank\" href=https://colab.research.google.com/notebooks/data_table.ipynb>data table notebook</a>'\n",
              "            + ' to learn more about interactive tables.';\n",
              "          element.innerHTML = '';\n",
              "          dataTable['output_type'] = 'display_data';\n",
              "          await google.colab.output.renderOutput(dataTable, element);\n",
              "          const docLink = document.createElement('div');\n",
              "          docLink.innerHTML = docLinkHtml;\n",
              "          element.appendChild(docLink);\n",
              "        }\n",
              "      </script>\n",
              "    </div>\n",
              "  </div>\n",
              "  "
            ]
          },
          "metadata": {},
          "execution_count": 5
        }
      ]
    },
    {
      "cell_type": "code",
      "source": [
        "df.set_index(df['Date Time'],drop=True,inplace=True)"
      ],
      "metadata": {
        "execution": {
          "iopub.status.busy": "2023-02-10T15:31:01.736775Z",
          "iopub.execute_input": "2023-02-10T15:31:01.737471Z",
          "iopub.status.idle": "2023-02-10T15:31:01.756185Z",
          "shell.execute_reply.started": "2023-02-10T15:31:01.737428Z",
          "shell.execute_reply": "2023-02-10T15:31:01.754643Z"
        },
        "trusted": true,
        "id": "8COCYIEd9Uy0"
      },
      "execution_count": 6,
      "outputs": []
    },
    {
      "cell_type": "code",
      "source": [
        "df.drop('Date Time',axis=1,inplace=True)"
      ],
      "metadata": {
        "execution": {
          "iopub.status.busy": "2023-02-10T15:31:01.771273Z",
          "iopub.execute_input": "2023-02-10T15:31:01.771958Z",
          "iopub.status.idle": "2023-02-10T15:31:01.789699Z",
          "shell.execute_reply.started": "2023-02-10T15:31:01.771921Z",
          "shell.execute_reply": "2023-02-10T15:31:01.788411Z"
        },
        "trusted": true,
        "id": "qx8Eb8pc9Uy1"
      },
      "execution_count": 7,
      "outputs": []
    },
    {
      "cell_type": "code",
      "source": [
        "df.head()"
      ],
      "metadata": {
        "execution": {
          "iopub.status.busy": "2023-02-10T15:31:01.813663Z",
          "iopub.execute_input": "2023-02-10T15:31:01.814368Z",
          "iopub.status.idle": "2023-02-10T15:31:01.829248Z",
          "shell.execute_reply.started": "2023-02-10T15:31:01.814336Z",
          "shell.execute_reply": "2023-02-10T15:31:01.827507Z"
        },
        "trusted": true,
        "colab": {
          "base_uri": "https://localhost:8080/",
          "height": 385
        },
        "id": "zbkT7-pE9Uy1",
        "outputId": "341406d1-8fe1-4d49-af88-c68525aeea58"
      },
      "execution_count": 8,
      "outputs": [
        {
          "output_type": "execute_result",
          "data": {
            "text/plain": [
              "                     p (mbar)  T (degC)  Tpot (K)  Tdew (degC)  rh (%)  \\\n",
              "Date Time                                                                \n",
              "2009-01-01 00:10:00    996.52     -8.02    265.40        -8.90    93.3   \n",
              "2009-01-01 00:20:00    996.57     -8.41    265.01        -9.28    93.4   \n",
              "2009-01-01 00:30:00    996.53     -8.51    264.91        -9.31    93.9   \n",
              "2009-01-01 00:40:00    996.51     -8.31    265.12        -9.07    94.2   \n",
              "2009-01-01 00:50:00    996.51     -8.27    265.15        -9.04    94.1   \n",
              "\n",
              "                     VPmax (mbar)  VPact (mbar)  VPdef (mbar)  sh (g/kg)  \\\n",
              "Date Time                                                                  \n",
              "2009-01-01 00:10:00          3.33          3.11          0.22       1.94   \n",
              "2009-01-01 00:20:00          3.23          3.02          0.21       1.89   \n",
              "2009-01-01 00:30:00          3.21          3.01          0.20       1.88   \n",
              "2009-01-01 00:40:00          3.26          3.07          0.19       1.92   \n",
              "2009-01-01 00:50:00          3.27          3.08          0.19       1.92   \n",
              "\n",
              "                     H2OC (mmol/mol)  rho (g/m**3)  wv (m/s)  max. wv (m/s)  \\\n",
              "Date Time                                                                     \n",
              "2009-01-01 00:10:00             3.12       1307.75      1.03           1.75   \n",
              "2009-01-01 00:20:00             3.03       1309.80      0.72           1.50   \n",
              "2009-01-01 00:30:00             3.02       1310.24      0.19           0.63   \n",
              "2009-01-01 00:40:00             3.08       1309.19      0.34           0.50   \n",
              "2009-01-01 00:50:00             3.09       1309.00      0.32           0.63   \n",
              "\n",
              "                     wd (deg)  \n",
              "Date Time                      \n",
              "2009-01-01 00:10:00     152.3  \n",
              "2009-01-01 00:20:00     136.1  \n",
              "2009-01-01 00:30:00     171.6  \n",
              "2009-01-01 00:40:00     198.0  \n",
              "2009-01-01 00:50:00     214.3  "
            ],
            "text/html": [
              "\n",
              "  <div id=\"df-f43a3bb1-7cdb-47de-b2d7-114c2bcee68d\">\n",
              "    <div class=\"colab-df-container\">\n",
              "      <div>\n",
              "<style scoped>\n",
              "    .dataframe tbody tr th:only-of-type {\n",
              "        vertical-align: middle;\n",
              "    }\n",
              "\n",
              "    .dataframe tbody tr th {\n",
              "        vertical-align: top;\n",
              "    }\n",
              "\n",
              "    .dataframe thead th {\n",
              "        text-align: right;\n",
              "    }\n",
              "</style>\n",
              "<table border=\"1\" class=\"dataframe\">\n",
              "  <thead>\n",
              "    <tr style=\"text-align: right;\">\n",
              "      <th></th>\n",
              "      <th>p (mbar)</th>\n",
              "      <th>T (degC)</th>\n",
              "      <th>Tpot (K)</th>\n",
              "      <th>Tdew (degC)</th>\n",
              "      <th>rh (%)</th>\n",
              "      <th>VPmax (mbar)</th>\n",
              "      <th>VPact (mbar)</th>\n",
              "      <th>VPdef (mbar)</th>\n",
              "      <th>sh (g/kg)</th>\n",
              "      <th>H2OC (mmol/mol)</th>\n",
              "      <th>rho (g/m**3)</th>\n",
              "      <th>wv (m/s)</th>\n",
              "      <th>max. wv (m/s)</th>\n",
              "      <th>wd (deg)</th>\n",
              "    </tr>\n",
              "    <tr>\n",
              "      <th>Date Time</th>\n",
              "      <th></th>\n",
              "      <th></th>\n",
              "      <th></th>\n",
              "      <th></th>\n",
              "      <th></th>\n",
              "      <th></th>\n",
              "      <th></th>\n",
              "      <th></th>\n",
              "      <th></th>\n",
              "      <th></th>\n",
              "      <th></th>\n",
              "      <th></th>\n",
              "      <th></th>\n",
              "      <th></th>\n",
              "    </tr>\n",
              "  </thead>\n",
              "  <tbody>\n",
              "    <tr>\n",
              "      <th>2009-01-01 00:10:00</th>\n",
              "      <td>996.52</td>\n",
              "      <td>-8.02</td>\n",
              "      <td>265.40</td>\n",
              "      <td>-8.90</td>\n",
              "      <td>93.3</td>\n",
              "      <td>3.33</td>\n",
              "      <td>3.11</td>\n",
              "      <td>0.22</td>\n",
              "      <td>1.94</td>\n",
              "      <td>3.12</td>\n",
              "      <td>1307.75</td>\n",
              "      <td>1.03</td>\n",
              "      <td>1.75</td>\n",
              "      <td>152.3</td>\n",
              "    </tr>\n",
              "    <tr>\n",
              "      <th>2009-01-01 00:20:00</th>\n",
              "      <td>996.57</td>\n",
              "      <td>-8.41</td>\n",
              "      <td>265.01</td>\n",
              "      <td>-9.28</td>\n",
              "      <td>93.4</td>\n",
              "      <td>3.23</td>\n",
              "      <td>3.02</td>\n",
              "      <td>0.21</td>\n",
              "      <td>1.89</td>\n",
              "      <td>3.03</td>\n",
              "      <td>1309.80</td>\n",
              "      <td>0.72</td>\n",
              "      <td>1.50</td>\n",
              "      <td>136.1</td>\n",
              "    </tr>\n",
              "    <tr>\n",
              "      <th>2009-01-01 00:30:00</th>\n",
              "      <td>996.53</td>\n",
              "      <td>-8.51</td>\n",
              "      <td>264.91</td>\n",
              "      <td>-9.31</td>\n",
              "      <td>93.9</td>\n",
              "      <td>3.21</td>\n",
              "      <td>3.01</td>\n",
              "      <td>0.20</td>\n",
              "      <td>1.88</td>\n",
              "      <td>3.02</td>\n",
              "      <td>1310.24</td>\n",
              "      <td>0.19</td>\n",
              "      <td>0.63</td>\n",
              "      <td>171.6</td>\n",
              "    </tr>\n",
              "    <tr>\n",
              "      <th>2009-01-01 00:40:00</th>\n",
              "      <td>996.51</td>\n",
              "      <td>-8.31</td>\n",
              "      <td>265.12</td>\n",
              "      <td>-9.07</td>\n",
              "      <td>94.2</td>\n",
              "      <td>3.26</td>\n",
              "      <td>3.07</td>\n",
              "      <td>0.19</td>\n",
              "      <td>1.92</td>\n",
              "      <td>3.08</td>\n",
              "      <td>1309.19</td>\n",
              "      <td>0.34</td>\n",
              "      <td>0.50</td>\n",
              "      <td>198.0</td>\n",
              "    </tr>\n",
              "    <tr>\n",
              "      <th>2009-01-01 00:50:00</th>\n",
              "      <td>996.51</td>\n",
              "      <td>-8.27</td>\n",
              "      <td>265.15</td>\n",
              "      <td>-9.04</td>\n",
              "      <td>94.1</td>\n",
              "      <td>3.27</td>\n",
              "      <td>3.08</td>\n",
              "      <td>0.19</td>\n",
              "      <td>1.92</td>\n",
              "      <td>3.09</td>\n",
              "      <td>1309.00</td>\n",
              "      <td>0.32</td>\n",
              "      <td>0.63</td>\n",
              "      <td>214.3</td>\n",
              "    </tr>\n",
              "  </tbody>\n",
              "</table>\n",
              "</div>\n",
              "      <button class=\"colab-df-convert\" onclick=\"convertToInteractive('df-f43a3bb1-7cdb-47de-b2d7-114c2bcee68d')\"\n",
              "              title=\"Convert this dataframe to an interactive table.\"\n",
              "              style=\"display:none;\">\n",
              "        \n",
              "  <svg xmlns=\"http://www.w3.org/2000/svg\" height=\"24px\"viewBox=\"0 0 24 24\"\n",
              "       width=\"24px\">\n",
              "    <path d=\"M0 0h24v24H0V0z\" fill=\"none\"/>\n",
              "    <path d=\"M18.56 5.44l.94 2.06.94-2.06 2.06-.94-2.06-.94-.94-2.06-.94 2.06-2.06.94zm-11 1L8.5 8.5l.94-2.06 2.06-.94-2.06-.94L8.5 2.5l-.94 2.06-2.06.94zm10 10l.94 2.06.94-2.06 2.06-.94-2.06-.94-.94-2.06-.94 2.06-2.06.94z\"/><path d=\"M17.41 7.96l-1.37-1.37c-.4-.4-.92-.59-1.43-.59-.52 0-1.04.2-1.43.59L10.3 9.45l-7.72 7.72c-.78.78-.78 2.05 0 2.83L4 21.41c.39.39.9.59 1.41.59.51 0 1.02-.2 1.41-.59l7.78-7.78 2.81-2.81c.8-.78.8-2.07 0-2.86zM5.41 20L4 18.59l7.72-7.72 1.47 1.35L5.41 20z\"/>\n",
              "  </svg>\n",
              "      </button>\n",
              "      \n",
              "  <style>\n",
              "    .colab-df-container {\n",
              "      display:flex;\n",
              "      flex-wrap:wrap;\n",
              "      gap: 12px;\n",
              "    }\n",
              "\n",
              "    .colab-df-convert {\n",
              "      background-color: #E8F0FE;\n",
              "      border: none;\n",
              "      border-radius: 50%;\n",
              "      cursor: pointer;\n",
              "      display: none;\n",
              "      fill: #1967D2;\n",
              "      height: 32px;\n",
              "      padding: 0 0 0 0;\n",
              "      width: 32px;\n",
              "    }\n",
              "\n",
              "    .colab-df-convert:hover {\n",
              "      background-color: #E2EBFA;\n",
              "      box-shadow: 0px 1px 2px rgba(60, 64, 67, 0.3), 0px 1px 3px 1px rgba(60, 64, 67, 0.15);\n",
              "      fill: #174EA6;\n",
              "    }\n",
              "\n",
              "    [theme=dark] .colab-df-convert {\n",
              "      background-color: #3B4455;\n",
              "      fill: #D2E3FC;\n",
              "    }\n",
              "\n",
              "    [theme=dark] .colab-df-convert:hover {\n",
              "      background-color: #434B5C;\n",
              "      box-shadow: 0px 1px 3px 1px rgba(0, 0, 0, 0.15);\n",
              "      filter: drop-shadow(0px 1px 2px rgba(0, 0, 0, 0.3));\n",
              "      fill: #FFFFFF;\n",
              "    }\n",
              "  </style>\n",
              "\n",
              "      <script>\n",
              "        const buttonEl =\n",
              "          document.querySelector('#df-f43a3bb1-7cdb-47de-b2d7-114c2bcee68d button.colab-df-convert');\n",
              "        buttonEl.style.display =\n",
              "          google.colab.kernel.accessAllowed ? 'block' : 'none';\n",
              "\n",
              "        async function convertToInteractive(key) {\n",
              "          const element = document.querySelector('#df-f43a3bb1-7cdb-47de-b2d7-114c2bcee68d');\n",
              "          const dataTable =\n",
              "            await google.colab.kernel.invokeFunction('convertToInteractive',\n",
              "                                                     [key], {});\n",
              "          if (!dataTable) return;\n",
              "\n",
              "          const docLinkHtml = 'Like what you see? Visit the ' +\n",
              "            '<a target=\"_blank\" href=https://colab.research.google.com/notebooks/data_table.ipynb>data table notebook</a>'\n",
              "            + ' to learn more about interactive tables.';\n",
              "          element.innerHTML = '';\n",
              "          dataTable['output_type'] = 'display_data';\n",
              "          await google.colab.output.renderOutput(dataTable, element);\n",
              "          const docLink = document.createElement('div');\n",
              "          docLink.innerHTML = docLinkHtml;\n",
              "          element.appendChild(docLink);\n",
              "        }\n",
              "      </script>\n",
              "    </div>\n",
              "  </div>\n",
              "  "
            ]
          },
          "metadata": {},
          "execution_count": 8
        }
      ]
    },
    {
      "cell_type": "code",
      "source": [
        "df.shape"
      ],
      "metadata": {
        "execution": {
          "iopub.status.busy": "2023-02-10T15:31:02.147349Z",
          "iopub.execute_input": "2023-02-10T15:31:02.148226Z",
          "iopub.status.idle": "2023-02-10T15:31:02.165198Z",
          "shell.execute_reply.started": "2023-02-10T15:31:02.148189Z",
          "shell.execute_reply": "2023-02-10T15:31:02.163702Z"
        },
        "trusted": true,
        "colab": {
          "base_uri": "https://localhost:8080/"
        },
        "id": "oEwWZqYf9Uy2",
        "outputId": "1ed7b48e-d349-43e7-8283-7721c7e06a42"
      },
      "execution_count": 9,
      "outputs": [
        {
          "output_type": "execute_result",
          "data": {
            "text/plain": [
              "(420551, 14)"
            ]
          },
          "metadata": {},
          "execution_count": 9
        }
      ]
    },
    {
      "cell_type": "code",
      "source": [
        "temp=df['T (degC)']\n",
        "df.drop('T (degC)',axis=1,inplace=True)"
      ],
      "metadata": {
        "execution": {
          "iopub.status.busy": "2023-02-10T15:31:02.826439Z",
          "iopub.execute_input": "2023-02-10T15:31:02.827511Z",
          "iopub.status.idle": "2023-02-10T15:31:02.846947Z",
          "shell.execute_reply.started": "2023-02-10T15:31:02.827456Z",
          "shell.execute_reply": "2023-02-10T15:31:02.844390Z"
        },
        "trusted": true,
        "id": "Y6fhCPlW9Uy2"
      },
      "execution_count": 10,
      "outputs": []
    },
    {
      "cell_type": "code",
      "source": [
        "df.insert(0,'T (degC)',temp)"
      ],
      "metadata": {
        "execution": {
          "iopub.status.busy": "2023-02-10T12:29:07.997830Z",
          "iopub.execute_input": "2023-02-10T12:29:07.998238Z",
          "iopub.status.idle": "2023-02-10T12:29:08.005648Z",
          "shell.execute_reply.started": "2023-02-10T12:29:07.998200Z",
          "shell.execute_reply": "2023-02-10T12:29:08.003761Z"
        },
        "trusted": true,
        "id": "9wRoy7pR9Uy3"
      },
      "execution_count": 11,
      "outputs": []
    },
    {
      "cell_type": "code",
      "source": [
        "df.head()"
      ],
      "metadata": {
        "execution": {
          "iopub.status.busy": "2023-02-10T12:29:15.888161Z",
          "iopub.execute_input": "2023-02-10T12:29:15.888648Z",
          "iopub.status.idle": "2023-02-10T12:29:15.917006Z",
          "shell.execute_reply.started": "2023-02-10T12:29:15.888609Z",
          "shell.execute_reply": "2023-02-10T12:29:15.916144Z"
        },
        "trusted": true,
        "colab": {
          "base_uri": "https://localhost:8080/",
          "height": 385
        },
        "id": "jWP2HFME9Uy3",
        "outputId": "cb6c240d-5608-42a9-c0dc-2f1330a231ed"
      },
      "execution_count": 12,
      "outputs": [
        {
          "output_type": "execute_result",
          "data": {
            "text/plain": [
              "                     T (degC)  p (mbar)  Tpot (K)  Tdew (degC)  rh (%)  \\\n",
              "Date Time                                                                \n",
              "2009-01-01 00:10:00     -8.02    996.52    265.40        -8.90    93.3   \n",
              "2009-01-01 00:20:00     -8.41    996.57    265.01        -9.28    93.4   \n",
              "2009-01-01 00:30:00     -8.51    996.53    264.91        -9.31    93.9   \n",
              "2009-01-01 00:40:00     -8.31    996.51    265.12        -9.07    94.2   \n",
              "2009-01-01 00:50:00     -8.27    996.51    265.15        -9.04    94.1   \n",
              "\n",
              "                     VPmax (mbar)  VPact (mbar)  VPdef (mbar)  sh (g/kg)  \\\n",
              "Date Time                                                                  \n",
              "2009-01-01 00:10:00          3.33          3.11          0.22       1.94   \n",
              "2009-01-01 00:20:00          3.23          3.02          0.21       1.89   \n",
              "2009-01-01 00:30:00          3.21          3.01          0.20       1.88   \n",
              "2009-01-01 00:40:00          3.26          3.07          0.19       1.92   \n",
              "2009-01-01 00:50:00          3.27          3.08          0.19       1.92   \n",
              "\n",
              "                     H2OC (mmol/mol)  rho (g/m**3)  wv (m/s)  max. wv (m/s)  \\\n",
              "Date Time                                                                     \n",
              "2009-01-01 00:10:00             3.12       1307.75      1.03           1.75   \n",
              "2009-01-01 00:20:00             3.03       1309.80      0.72           1.50   \n",
              "2009-01-01 00:30:00             3.02       1310.24      0.19           0.63   \n",
              "2009-01-01 00:40:00             3.08       1309.19      0.34           0.50   \n",
              "2009-01-01 00:50:00             3.09       1309.00      0.32           0.63   \n",
              "\n",
              "                     wd (deg)  \n",
              "Date Time                      \n",
              "2009-01-01 00:10:00     152.3  \n",
              "2009-01-01 00:20:00     136.1  \n",
              "2009-01-01 00:30:00     171.6  \n",
              "2009-01-01 00:40:00     198.0  \n",
              "2009-01-01 00:50:00     214.3  "
            ],
            "text/html": [
              "\n",
              "  <div id=\"df-12bc87b2-6c6e-4878-a12b-b210d5c8cefb\">\n",
              "    <div class=\"colab-df-container\">\n",
              "      <div>\n",
              "<style scoped>\n",
              "    .dataframe tbody tr th:only-of-type {\n",
              "        vertical-align: middle;\n",
              "    }\n",
              "\n",
              "    .dataframe tbody tr th {\n",
              "        vertical-align: top;\n",
              "    }\n",
              "\n",
              "    .dataframe thead th {\n",
              "        text-align: right;\n",
              "    }\n",
              "</style>\n",
              "<table border=\"1\" class=\"dataframe\">\n",
              "  <thead>\n",
              "    <tr style=\"text-align: right;\">\n",
              "      <th></th>\n",
              "      <th>T (degC)</th>\n",
              "      <th>p (mbar)</th>\n",
              "      <th>Tpot (K)</th>\n",
              "      <th>Tdew (degC)</th>\n",
              "      <th>rh (%)</th>\n",
              "      <th>VPmax (mbar)</th>\n",
              "      <th>VPact (mbar)</th>\n",
              "      <th>VPdef (mbar)</th>\n",
              "      <th>sh (g/kg)</th>\n",
              "      <th>H2OC (mmol/mol)</th>\n",
              "      <th>rho (g/m**3)</th>\n",
              "      <th>wv (m/s)</th>\n",
              "      <th>max. wv (m/s)</th>\n",
              "      <th>wd (deg)</th>\n",
              "    </tr>\n",
              "    <tr>\n",
              "      <th>Date Time</th>\n",
              "      <th></th>\n",
              "      <th></th>\n",
              "      <th></th>\n",
              "      <th></th>\n",
              "      <th></th>\n",
              "      <th></th>\n",
              "      <th></th>\n",
              "      <th></th>\n",
              "      <th></th>\n",
              "      <th></th>\n",
              "      <th></th>\n",
              "      <th></th>\n",
              "      <th></th>\n",
              "      <th></th>\n",
              "    </tr>\n",
              "  </thead>\n",
              "  <tbody>\n",
              "    <tr>\n",
              "      <th>2009-01-01 00:10:00</th>\n",
              "      <td>-8.02</td>\n",
              "      <td>996.52</td>\n",
              "      <td>265.40</td>\n",
              "      <td>-8.90</td>\n",
              "      <td>93.3</td>\n",
              "      <td>3.33</td>\n",
              "      <td>3.11</td>\n",
              "      <td>0.22</td>\n",
              "      <td>1.94</td>\n",
              "      <td>3.12</td>\n",
              "      <td>1307.75</td>\n",
              "      <td>1.03</td>\n",
              "      <td>1.75</td>\n",
              "      <td>152.3</td>\n",
              "    </tr>\n",
              "    <tr>\n",
              "      <th>2009-01-01 00:20:00</th>\n",
              "      <td>-8.41</td>\n",
              "      <td>996.57</td>\n",
              "      <td>265.01</td>\n",
              "      <td>-9.28</td>\n",
              "      <td>93.4</td>\n",
              "      <td>3.23</td>\n",
              "      <td>3.02</td>\n",
              "      <td>0.21</td>\n",
              "      <td>1.89</td>\n",
              "      <td>3.03</td>\n",
              "      <td>1309.80</td>\n",
              "      <td>0.72</td>\n",
              "      <td>1.50</td>\n",
              "      <td>136.1</td>\n",
              "    </tr>\n",
              "    <tr>\n",
              "      <th>2009-01-01 00:30:00</th>\n",
              "      <td>-8.51</td>\n",
              "      <td>996.53</td>\n",
              "      <td>264.91</td>\n",
              "      <td>-9.31</td>\n",
              "      <td>93.9</td>\n",
              "      <td>3.21</td>\n",
              "      <td>3.01</td>\n",
              "      <td>0.20</td>\n",
              "      <td>1.88</td>\n",
              "      <td>3.02</td>\n",
              "      <td>1310.24</td>\n",
              "      <td>0.19</td>\n",
              "      <td>0.63</td>\n",
              "      <td>171.6</td>\n",
              "    </tr>\n",
              "    <tr>\n",
              "      <th>2009-01-01 00:40:00</th>\n",
              "      <td>-8.31</td>\n",
              "      <td>996.51</td>\n",
              "      <td>265.12</td>\n",
              "      <td>-9.07</td>\n",
              "      <td>94.2</td>\n",
              "      <td>3.26</td>\n",
              "      <td>3.07</td>\n",
              "      <td>0.19</td>\n",
              "      <td>1.92</td>\n",
              "      <td>3.08</td>\n",
              "      <td>1309.19</td>\n",
              "      <td>0.34</td>\n",
              "      <td>0.50</td>\n",
              "      <td>198.0</td>\n",
              "    </tr>\n",
              "    <tr>\n",
              "      <th>2009-01-01 00:50:00</th>\n",
              "      <td>-8.27</td>\n",
              "      <td>996.51</td>\n",
              "      <td>265.15</td>\n",
              "      <td>-9.04</td>\n",
              "      <td>94.1</td>\n",
              "      <td>3.27</td>\n",
              "      <td>3.08</td>\n",
              "      <td>0.19</td>\n",
              "      <td>1.92</td>\n",
              "      <td>3.09</td>\n",
              "      <td>1309.00</td>\n",
              "      <td>0.32</td>\n",
              "      <td>0.63</td>\n",
              "      <td>214.3</td>\n",
              "    </tr>\n",
              "  </tbody>\n",
              "</table>\n",
              "</div>\n",
              "      <button class=\"colab-df-convert\" onclick=\"convertToInteractive('df-12bc87b2-6c6e-4878-a12b-b210d5c8cefb')\"\n",
              "              title=\"Convert this dataframe to an interactive table.\"\n",
              "              style=\"display:none;\">\n",
              "        \n",
              "  <svg xmlns=\"http://www.w3.org/2000/svg\" height=\"24px\"viewBox=\"0 0 24 24\"\n",
              "       width=\"24px\">\n",
              "    <path d=\"M0 0h24v24H0V0z\" fill=\"none\"/>\n",
              "    <path d=\"M18.56 5.44l.94 2.06.94-2.06 2.06-.94-2.06-.94-.94-2.06-.94 2.06-2.06.94zm-11 1L8.5 8.5l.94-2.06 2.06-.94-2.06-.94L8.5 2.5l-.94 2.06-2.06.94zm10 10l.94 2.06.94-2.06 2.06-.94-2.06-.94-.94-2.06-.94 2.06-2.06.94z\"/><path d=\"M17.41 7.96l-1.37-1.37c-.4-.4-.92-.59-1.43-.59-.52 0-1.04.2-1.43.59L10.3 9.45l-7.72 7.72c-.78.78-.78 2.05 0 2.83L4 21.41c.39.39.9.59 1.41.59.51 0 1.02-.2 1.41-.59l7.78-7.78 2.81-2.81c.8-.78.8-2.07 0-2.86zM5.41 20L4 18.59l7.72-7.72 1.47 1.35L5.41 20z\"/>\n",
              "  </svg>\n",
              "      </button>\n",
              "      \n",
              "  <style>\n",
              "    .colab-df-container {\n",
              "      display:flex;\n",
              "      flex-wrap:wrap;\n",
              "      gap: 12px;\n",
              "    }\n",
              "\n",
              "    .colab-df-convert {\n",
              "      background-color: #E8F0FE;\n",
              "      border: none;\n",
              "      border-radius: 50%;\n",
              "      cursor: pointer;\n",
              "      display: none;\n",
              "      fill: #1967D2;\n",
              "      height: 32px;\n",
              "      padding: 0 0 0 0;\n",
              "      width: 32px;\n",
              "    }\n",
              "\n",
              "    .colab-df-convert:hover {\n",
              "      background-color: #E2EBFA;\n",
              "      box-shadow: 0px 1px 2px rgba(60, 64, 67, 0.3), 0px 1px 3px 1px rgba(60, 64, 67, 0.15);\n",
              "      fill: #174EA6;\n",
              "    }\n",
              "\n",
              "    [theme=dark] .colab-df-convert {\n",
              "      background-color: #3B4455;\n",
              "      fill: #D2E3FC;\n",
              "    }\n",
              "\n",
              "    [theme=dark] .colab-df-convert:hover {\n",
              "      background-color: #434B5C;\n",
              "      box-shadow: 0px 1px 3px 1px rgba(0, 0, 0, 0.15);\n",
              "      filter: drop-shadow(0px 1px 2px rgba(0, 0, 0, 0.3));\n",
              "      fill: #FFFFFF;\n",
              "    }\n",
              "  </style>\n",
              "\n",
              "      <script>\n",
              "        const buttonEl =\n",
              "          document.querySelector('#df-12bc87b2-6c6e-4878-a12b-b210d5c8cefb button.colab-df-convert');\n",
              "        buttonEl.style.display =\n",
              "          google.colab.kernel.accessAllowed ? 'block' : 'none';\n",
              "\n",
              "        async function convertToInteractive(key) {\n",
              "          const element = document.querySelector('#df-12bc87b2-6c6e-4878-a12b-b210d5c8cefb');\n",
              "          const dataTable =\n",
              "            await google.colab.kernel.invokeFunction('convertToInteractive',\n",
              "                                                     [key], {});\n",
              "          if (!dataTable) return;\n",
              "\n",
              "          const docLinkHtml = 'Like what you see? Visit the ' +\n",
              "            '<a target=\"_blank\" href=https://colab.research.google.com/notebooks/data_table.ipynb>data table notebook</a>'\n",
              "            + ' to learn more about interactive tables.';\n",
              "          element.innerHTML = '';\n",
              "          dataTable['output_type'] = 'display_data';\n",
              "          await google.colab.output.renderOutput(dataTable, element);\n",
              "          const docLink = document.createElement('div');\n",
              "          docLink.innerHTML = docLinkHtml;\n",
              "          element.appendChild(docLink);\n",
              "        }\n",
              "      </script>\n",
              "    </div>\n",
              "  </div>\n",
              "  "
            ]
          },
          "metadata": {},
          "execution_count": 12
        }
      ]
    },
    {
      "cell_type": "code",
      "source": [
        "df_new=df[0:len(df):6]"
      ],
      "metadata": {
        "execution": {
          "iopub.status.busy": "2023-02-10T12:29:42.027105Z",
          "iopub.execute_input": "2023-02-10T12:29:42.027603Z",
          "iopub.status.idle": "2023-02-10T12:29:42.039780Z",
          "shell.execute_reply.started": "2023-02-10T12:29:42.027564Z",
          "shell.execute_reply": "2023-02-10T12:29:42.038362Z"
        },
        "trusted": true,
        "id": "RK0_z_Aa9Uy4"
      },
      "execution_count": 13,
      "outputs": []
    },
    {
      "cell_type": "code",
      "source": [
        "df_new.head()"
      ],
      "metadata": {
        "execution": {
          "iopub.status.busy": "2023-02-10T12:29:43.204736Z",
          "iopub.execute_input": "2023-02-10T12:29:43.205124Z",
          "iopub.status.idle": "2023-02-10T12:29:43.229468Z",
          "shell.execute_reply.started": "2023-02-10T12:29:43.205092Z",
          "shell.execute_reply": "2023-02-10T12:29:43.228330Z"
        },
        "trusted": true,
        "colab": {
          "base_uri": "https://localhost:8080/",
          "height": 385
        },
        "id": "IUY9s_CB9Uy4",
        "outputId": "a14fe760-dc27-4d13-c90a-7ada155dd985"
      },
      "execution_count": 14,
      "outputs": [
        {
          "output_type": "execute_result",
          "data": {
            "text/plain": [
              "                     T (degC)  p (mbar)  Tpot (K)  Tdew (degC)  rh (%)  \\\n",
              "Date Time                                                                \n",
              "2009-01-01 00:10:00     -8.02    996.52    265.40        -8.90    93.3   \n",
              "2009-01-01 01:10:00     -7.62    996.50    265.81        -8.30    94.8   \n",
              "2009-01-01 02:10:00     -8.85    996.63    264.57        -9.70    93.5   \n",
              "2009-01-01 03:10:00     -8.84    996.87    264.56        -9.69    93.5   \n",
              "2009-01-01 04:10:00     -9.23    997.05    264.15       -10.25    92.2   \n",
              "\n",
              "                     VPmax (mbar)  VPact (mbar)  VPdef (mbar)  sh (g/kg)  \\\n",
              "Date Time                                                                  \n",
              "2009-01-01 00:10:00          3.33          3.11          0.22       1.94   \n",
              "2009-01-01 01:10:00          3.44          3.26          0.18       2.04   \n",
              "2009-01-01 02:10:00          3.12          2.92          0.20       1.82   \n",
              "2009-01-01 03:10:00          3.13          2.92          0.20       1.83   \n",
              "2009-01-01 04:10:00          3.03          2.79          0.24       1.74   \n",
              "\n",
              "                     H2OC (mmol/mol)  rho (g/m**3)  wv (m/s)  max. wv (m/s)  \\\n",
              "Date Time                                                                     \n",
              "2009-01-01 00:10:00             3.12       1307.75      1.03           1.75   \n",
              "2009-01-01 01:10:00             3.27       1305.68      0.18           0.63   \n",
              "2009-01-01 02:10:00             2.93       1312.11      0.16           0.50   \n",
              "2009-01-01 03:10:00             2.93       1312.37      0.07           0.25   \n",
              "2009-01-01 04:10:00             2.80       1314.62      0.10           0.38   \n",
              "\n",
              "                     wd (deg)  \n",
              "Date Time                      \n",
              "2009-01-01 00:10:00     152.3  \n",
              "2009-01-01 01:10:00     166.5  \n",
              "2009-01-01 02:10:00     158.3  \n",
              "2009-01-01 03:10:00     129.3  \n",
              "2009-01-01 04:10:00     203.9  "
            ],
            "text/html": [
              "\n",
              "  <div id=\"df-41921ac3-cdff-441a-ad9e-cd25b3aeff4f\">\n",
              "    <div class=\"colab-df-container\">\n",
              "      <div>\n",
              "<style scoped>\n",
              "    .dataframe tbody tr th:only-of-type {\n",
              "        vertical-align: middle;\n",
              "    }\n",
              "\n",
              "    .dataframe tbody tr th {\n",
              "        vertical-align: top;\n",
              "    }\n",
              "\n",
              "    .dataframe thead th {\n",
              "        text-align: right;\n",
              "    }\n",
              "</style>\n",
              "<table border=\"1\" class=\"dataframe\">\n",
              "  <thead>\n",
              "    <tr style=\"text-align: right;\">\n",
              "      <th></th>\n",
              "      <th>T (degC)</th>\n",
              "      <th>p (mbar)</th>\n",
              "      <th>Tpot (K)</th>\n",
              "      <th>Tdew (degC)</th>\n",
              "      <th>rh (%)</th>\n",
              "      <th>VPmax (mbar)</th>\n",
              "      <th>VPact (mbar)</th>\n",
              "      <th>VPdef (mbar)</th>\n",
              "      <th>sh (g/kg)</th>\n",
              "      <th>H2OC (mmol/mol)</th>\n",
              "      <th>rho (g/m**3)</th>\n",
              "      <th>wv (m/s)</th>\n",
              "      <th>max. wv (m/s)</th>\n",
              "      <th>wd (deg)</th>\n",
              "    </tr>\n",
              "    <tr>\n",
              "      <th>Date Time</th>\n",
              "      <th></th>\n",
              "      <th></th>\n",
              "      <th></th>\n",
              "      <th></th>\n",
              "      <th></th>\n",
              "      <th></th>\n",
              "      <th></th>\n",
              "      <th></th>\n",
              "      <th></th>\n",
              "      <th></th>\n",
              "      <th></th>\n",
              "      <th></th>\n",
              "      <th></th>\n",
              "      <th></th>\n",
              "    </tr>\n",
              "  </thead>\n",
              "  <tbody>\n",
              "    <tr>\n",
              "      <th>2009-01-01 00:10:00</th>\n",
              "      <td>-8.02</td>\n",
              "      <td>996.52</td>\n",
              "      <td>265.40</td>\n",
              "      <td>-8.90</td>\n",
              "      <td>93.3</td>\n",
              "      <td>3.33</td>\n",
              "      <td>3.11</td>\n",
              "      <td>0.22</td>\n",
              "      <td>1.94</td>\n",
              "      <td>3.12</td>\n",
              "      <td>1307.75</td>\n",
              "      <td>1.03</td>\n",
              "      <td>1.75</td>\n",
              "      <td>152.3</td>\n",
              "    </tr>\n",
              "    <tr>\n",
              "      <th>2009-01-01 01:10:00</th>\n",
              "      <td>-7.62</td>\n",
              "      <td>996.50</td>\n",
              "      <td>265.81</td>\n",
              "      <td>-8.30</td>\n",
              "      <td>94.8</td>\n",
              "      <td>3.44</td>\n",
              "      <td>3.26</td>\n",
              "      <td>0.18</td>\n",
              "      <td>2.04</td>\n",
              "      <td>3.27</td>\n",
              "      <td>1305.68</td>\n",
              "      <td>0.18</td>\n",
              "      <td>0.63</td>\n",
              "      <td>166.5</td>\n",
              "    </tr>\n",
              "    <tr>\n",
              "      <th>2009-01-01 02:10:00</th>\n",
              "      <td>-8.85</td>\n",
              "      <td>996.63</td>\n",
              "      <td>264.57</td>\n",
              "      <td>-9.70</td>\n",
              "      <td>93.5</td>\n",
              "      <td>3.12</td>\n",
              "      <td>2.92</td>\n",
              "      <td>0.20</td>\n",
              "      <td>1.82</td>\n",
              "      <td>2.93</td>\n",
              "      <td>1312.11</td>\n",
              "      <td>0.16</td>\n",
              "      <td>0.50</td>\n",
              "      <td>158.3</td>\n",
              "    </tr>\n",
              "    <tr>\n",
              "      <th>2009-01-01 03:10:00</th>\n",
              "      <td>-8.84</td>\n",
              "      <td>996.87</td>\n",
              "      <td>264.56</td>\n",
              "      <td>-9.69</td>\n",
              "      <td>93.5</td>\n",
              "      <td>3.13</td>\n",
              "      <td>2.92</td>\n",
              "      <td>0.20</td>\n",
              "      <td>1.83</td>\n",
              "      <td>2.93</td>\n",
              "      <td>1312.37</td>\n",
              "      <td>0.07</td>\n",
              "      <td>0.25</td>\n",
              "      <td>129.3</td>\n",
              "    </tr>\n",
              "    <tr>\n",
              "      <th>2009-01-01 04:10:00</th>\n",
              "      <td>-9.23</td>\n",
              "      <td>997.05</td>\n",
              "      <td>264.15</td>\n",
              "      <td>-10.25</td>\n",
              "      <td>92.2</td>\n",
              "      <td>3.03</td>\n",
              "      <td>2.79</td>\n",
              "      <td>0.24</td>\n",
              "      <td>1.74</td>\n",
              "      <td>2.80</td>\n",
              "      <td>1314.62</td>\n",
              "      <td>0.10</td>\n",
              "      <td>0.38</td>\n",
              "      <td>203.9</td>\n",
              "    </tr>\n",
              "  </tbody>\n",
              "</table>\n",
              "</div>\n",
              "      <button class=\"colab-df-convert\" onclick=\"convertToInteractive('df-41921ac3-cdff-441a-ad9e-cd25b3aeff4f')\"\n",
              "              title=\"Convert this dataframe to an interactive table.\"\n",
              "              style=\"display:none;\">\n",
              "        \n",
              "  <svg xmlns=\"http://www.w3.org/2000/svg\" height=\"24px\"viewBox=\"0 0 24 24\"\n",
              "       width=\"24px\">\n",
              "    <path d=\"M0 0h24v24H0V0z\" fill=\"none\"/>\n",
              "    <path d=\"M18.56 5.44l.94 2.06.94-2.06 2.06-.94-2.06-.94-.94-2.06-.94 2.06-2.06.94zm-11 1L8.5 8.5l.94-2.06 2.06-.94-2.06-.94L8.5 2.5l-.94 2.06-2.06.94zm10 10l.94 2.06.94-2.06 2.06-.94-2.06-.94-.94-2.06-.94 2.06-2.06.94z\"/><path d=\"M17.41 7.96l-1.37-1.37c-.4-.4-.92-.59-1.43-.59-.52 0-1.04.2-1.43.59L10.3 9.45l-7.72 7.72c-.78.78-.78 2.05 0 2.83L4 21.41c.39.39.9.59 1.41.59.51 0 1.02-.2 1.41-.59l7.78-7.78 2.81-2.81c.8-.78.8-2.07 0-2.86zM5.41 20L4 18.59l7.72-7.72 1.47 1.35L5.41 20z\"/>\n",
              "  </svg>\n",
              "      </button>\n",
              "      \n",
              "  <style>\n",
              "    .colab-df-container {\n",
              "      display:flex;\n",
              "      flex-wrap:wrap;\n",
              "      gap: 12px;\n",
              "    }\n",
              "\n",
              "    .colab-df-convert {\n",
              "      background-color: #E8F0FE;\n",
              "      border: none;\n",
              "      border-radius: 50%;\n",
              "      cursor: pointer;\n",
              "      display: none;\n",
              "      fill: #1967D2;\n",
              "      height: 32px;\n",
              "      padding: 0 0 0 0;\n",
              "      width: 32px;\n",
              "    }\n",
              "\n",
              "    .colab-df-convert:hover {\n",
              "      background-color: #E2EBFA;\n",
              "      box-shadow: 0px 1px 2px rgba(60, 64, 67, 0.3), 0px 1px 3px 1px rgba(60, 64, 67, 0.15);\n",
              "      fill: #174EA6;\n",
              "    }\n",
              "\n",
              "    [theme=dark] .colab-df-convert {\n",
              "      background-color: #3B4455;\n",
              "      fill: #D2E3FC;\n",
              "    }\n",
              "\n",
              "    [theme=dark] .colab-df-convert:hover {\n",
              "      background-color: #434B5C;\n",
              "      box-shadow: 0px 1px 3px 1px rgba(0, 0, 0, 0.15);\n",
              "      filter: drop-shadow(0px 1px 2px rgba(0, 0, 0, 0.3));\n",
              "      fill: #FFFFFF;\n",
              "    }\n",
              "  </style>\n",
              "\n",
              "      <script>\n",
              "        const buttonEl =\n",
              "          document.querySelector('#df-41921ac3-cdff-441a-ad9e-cd25b3aeff4f button.colab-df-convert');\n",
              "        buttonEl.style.display =\n",
              "          google.colab.kernel.accessAllowed ? 'block' : 'none';\n",
              "\n",
              "        async function convertToInteractive(key) {\n",
              "          const element = document.querySelector('#df-41921ac3-cdff-441a-ad9e-cd25b3aeff4f');\n",
              "          const dataTable =\n",
              "            await google.colab.kernel.invokeFunction('convertToInteractive',\n",
              "                                                     [key], {});\n",
              "          if (!dataTable) return;\n",
              "\n",
              "          const docLinkHtml = 'Like what you see? Visit the ' +\n",
              "            '<a target=\"_blank\" href=https://colab.research.google.com/notebooks/data_table.ipynb>data table notebook</a>'\n",
              "            + ' to learn more about interactive tables.';\n",
              "          element.innerHTML = '';\n",
              "          dataTable['output_type'] = 'display_data';\n",
              "          await google.colab.output.renderOutput(dataTable, element);\n",
              "          const docLink = document.createElement('div');\n",
              "          docLink.innerHTML = docLinkHtml;\n",
              "          element.appendChild(docLink);\n",
              "        }\n",
              "      </script>\n",
              "    </div>\n",
              "  </div>\n",
              "  "
            ]
          },
          "metadata": {},
          "execution_count": 14
        }
      ]
    },
    {
      "cell_type": "code",
      "source": [
        "df_new.tail()"
      ],
      "metadata": {
        "execution": {
          "iopub.status.busy": "2023-02-10T12:29:46.529199Z",
          "iopub.execute_input": "2023-02-10T12:29:46.530378Z",
          "iopub.status.idle": "2023-02-10T12:29:46.554255Z",
          "shell.execute_reply.started": "2023-02-10T12:29:46.530332Z",
          "shell.execute_reply": "2023-02-10T12:29:46.553324Z"
        },
        "trusted": true,
        "colab": {
          "base_uri": "https://localhost:8080/",
          "height": 385
        },
        "id": "qNWofvA69Uy5",
        "outputId": "e6490092-3103-4e28-a4e2-fdc683d2c37d"
      },
      "execution_count": 15,
      "outputs": [
        {
          "output_type": "execute_result",
          "data": {
            "text/plain": [
              "                     T (degC)  p (mbar)  Tpot (K)  Tdew (degC)  rh (%)  \\\n",
              "Date Time                                                                \n",
              "2016-12-31 19:20:00     -1.40   1002.08    271.59        -6.10   70.20   \n",
              "2016-12-31 20:20:00     -2.15   1001.42    270.90        -7.08   68.77   \n",
              "2016-12-31 21:20:00     -2.61   1001.05    270.47        -6.97   71.80   \n",
              "2016-12-31 22:20:00     -3.22   1000.51    269.90        -7.63   71.40   \n",
              "2016-12-31 23:20:00     -4.05   1000.07    269.10        -8.13   73.10   \n",
              "\n",
              "                     VPmax (mbar)  VPact (mbar)  VPdef (mbar)  sh (g/kg)  \\\n",
              "Date Time                                                                  \n",
              "2016-12-31 19:20:00          5.51          3.87          1.64       2.40   \n",
              "2016-12-31 20:20:00          5.21          3.59          1.63       2.23   \n",
              "2016-12-31 21:20:00          5.04          3.62          1.42       2.25   \n",
              "2016-12-31 22:20:00          4.81          3.44          1.38       2.14   \n",
              "2016-12-31 23:20:00          4.52          3.30          1.22       2.06   \n",
              "\n",
              "                     H2OC (mmol/mol)  rho (g/m**3)  wv (m/s)  max. wv (m/s)  \\\n",
              "Date Time                                                                     \n",
              "2016-12-31 19:20:00             3.86       1282.68      1.08           1.68   \n",
              "2016-12-31 20:20:00             3.58       1285.50      0.79           1.24   \n",
              "2016-12-31 21:20:00             3.61       1287.20      0.77           1.64   \n",
              "2016-12-31 22:20:00             3.44       1289.50      0.85           1.54   \n",
              "2016-12-31 23:20:00             3.30       1292.98      0.67           1.52   \n",
              "\n",
              "                     wd (deg)  \n",
              "Date Time                      \n",
              "2016-12-31 19:20:00     207.5  \n",
              "2016-12-31 20:20:00     184.3  \n",
              "2016-12-31 21:20:00     129.1  \n",
              "2016-12-31 22:20:00     207.8  \n",
              "2016-12-31 23:20:00     240.0  "
            ],
            "text/html": [
              "\n",
              "  <div id=\"df-4c06d259-f875-4e7e-9612-56f024627c2f\">\n",
              "    <div class=\"colab-df-container\">\n",
              "      <div>\n",
              "<style scoped>\n",
              "    .dataframe tbody tr th:only-of-type {\n",
              "        vertical-align: middle;\n",
              "    }\n",
              "\n",
              "    .dataframe tbody tr th {\n",
              "        vertical-align: top;\n",
              "    }\n",
              "\n",
              "    .dataframe thead th {\n",
              "        text-align: right;\n",
              "    }\n",
              "</style>\n",
              "<table border=\"1\" class=\"dataframe\">\n",
              "  <thead>\n",
              "    <tr style=\"text-align: right;\">\n",
              "      <th></th>\n",
              "      <th>T (degC)</th>\n",
              "      <th>p (mbar)</th>\n",
              "      <th>Tpot (K)</th>\n",
              "      <th>Tdew (degC)</th>\n",
              "      <th>rh (%)</th>\n",
              "      <th>VPmax (mbar)</th>\n",
              "      <th>VPact (mbar)</th>\n",
              "      <th>VPdef (mbar)</th>\n",
              "      <th>sh (g/kg)</th>\n",
              "      <th>H2OC (mmol/mol)</th>\n",
              "      <th>rho (g/m**3)</th>\n",
              "      <th>wv (m/s)</th>\n",
              "      <th>max. wv (m/s)</th>\n",
              "      <th>wd (deg)</th>\n",
              "    </tr>\n",
              "    <tr>\n",
              "      <th>Date Time</th>\n",
              "      <th></th>\n",
              "      <th></th>\n",
              "      <th></th>\n",
              "      <th></th>\n",
              "      <th></th>\n",
              "      <th></th>\n",
              "      <th></th>\n",
              "      <th></th>\n",
              "      <th></th>\n",
              "      <th></th>\n",
              "      <th></th>\n",
              "      <th></th>\n",
              "      <th></th>\n",
              "      <th></th>\n",
              "    </tr>\n",
              "  </thead>\n",
              "  <tbody>\n",
              "    <tr>\n",
              "      <th>2016-12-31 19:20:00</th>\n",
              "      <td>-1.40</td>\n",
              "      <td>1002.08</td>\n",
              "      <td>271.59</td>\n",
              "      <td>-6.10</td>\n",
              "      <td>70.20</td>\n",
              "      <td>5.51</td>\n",
              "      <td>3.87</td>\n",
              "      <td>1.64</td>\n",
              "      <td>2.40</td>\n",
              "      <td>3.86</td>\n",
              "      <td>1282.68</td>\n",
              "      <td>1.08</td>\n",
              "      <td>1.68</td>\n",
              "      <td>207.5</td>\n",
              "    </tr>\n",
              "    <tr>\n",
              "      <th>2016-12-31 20:20:00</th>\n",
              "      <td>-2.15</td>\n",
              "      <td>1001.42</td>\n",
              "      <td>270.90</td>\n",
              "      <td>-7.08</td>\n",
              "      <td>68.77</td>\n",
              "      <td>5.21</td>\n",
              "      <td>3.59</td>\n",
              "      <td>1.63</td>\n",
              "      <td>2.23</td>\n",
              "      <td>3.58</td>\n",
              "      <td>1285.50</td>\n",
              "      <td>0.79</td>\n",
              "      <td>1.24</td>\n",
              "      <td>184.3</td>\n",
              "    </tr>\n",
              "    <tr>\n",
              "      <th>2016-12-31 21:20:00</th>\n",
              "      <td>-2.61</td>\n",
              "      <td>1001.05</td>\n",
              "      <td>270.47</td>\n",
              "      <td>-6.97</td>\n",
              "      <td>71.80</td>\n",
              "      <td>5.04</td>\n",
              "      <td>3.62</td>\n",
              "      <td>1.42</td>\n",
              "      <td>2.25</td>\n",
              "      <td>3.61</td>\n",
              "      <td>1287.20</td>\n",
              "      <td>0.77</td>\n",
              "      <td>1.64</td>\n",
              "      <td>129.1</td>\n",
              "    </tr>\n",
              "    <tr>\n",
              "      <th>2016-12-31 22:20:00</th>\n",
              "      <td>-3.22</td>\n",
              "      <td>1000.51</td>\n",
              "      <td>269.90</td>\n",
              "      <td>-7.63</td>\n",
              "      <td>71.40</td>\n",
              "      <td>4.81</td>\n",
              "      <td>3.44</td>\n",
              "      <td>1.38</td>\n",
              "      <td>2.14</td>\n",
              "      <td>3.44</td>\n",
              "      <td>1289.50</td>\n",
              "      <td>0.85</td>\n",
              "      <td>1.54</td>\n",
              "      <td>207.8</td>\n",
              "    </tr>\n",
              "    <tr>\n",
              "      <th>2016-12-31 23:20:00</th>\n",
              "      <td>-4.05</td>\n",
              "      <td>1000.07</td>\n",
              "      <td>269.10</td>\n",
              "      <td>-8.13</td>\n",
              "      <td>73.10</td>\n",
              "      <td>4.52</td>\n",
              "      <td>3.30</td>\n",
              "      <td>1.22</td>\n",
              "      <td>2.06</td>\n",
              "      <td>3.30</td>\n",
              "      <td>1292.98</td>\n",
              "      <td>0.67</td>\n",
              "      <td>1.52</td>\n",
              "      <td>240.0</td>\n",
              "    </tr>\n",
              "  </tbody>\n",
              "</table>\n",
              "</div>\n",
              "      <button class=\"colab-df-convert\" onclick=\"convertToInteractive('df-4c06d259-f875-4e7e-9612-56f024627c2f')\"\n",
              "              title=\"Convert this dataframe to an interactive table.\"\n",
              "              style=\"display:none;\">\n",
              "        \n",
              "  <svg xmlns=\"http://www.w3.org/2000/svg\" height=\"24px\"viewBox=\"0 0 24 24\"\n",
              "       width=\"24px\">\n",
              "    <path d=\"M0 0h24v24H0V0z\" fill=\"none\"/>\n",
              "    <path d=\"M18.56 5.44l.94 2.06.94-2.06 2.06-.94-2.06-.94-.94-2.06-.94 2.06-2.06.94zm-11 1L8.5 8.5l.94-2.06 2.06-.94-2.06-.94L8.5 2.5l-.94 2.06-2.06.94zm10 10l.94 2.06.94-2.06 2.06-.94-2.06-.94-.94-2.06-.94 2.06-2.06.94z\"/><path d=\"M17.41 7.96l-1.37-1.37c-.4-.4-.92-.59-1.43-.59-.52 0-1.04.2-1.43.59L10.3 9.45l-7.72 7.72c-.78.78-.78 2.05 0 2.83L4 21.41c.39.39.9.59 1.41.59.51 0 1.02-.2 1.41-.59l7.78-7.78 2.81-2.81c.8-.78.8-2.07 0-2.86zM5.41 20L4 18.59l7.72-7.72 1.47 1.35L5.41 20z\"/>\n",
              "  </svg>\n",
              "      </button>\n",
              "      \n",
              "  <style>\n",
              "    .colab-df-container {\n",
              "      display:flex;\n",
              "      flex-wrap:wrap;\n",
              "      gap: 12px;\n",
              "    }\n",
              "\n",
              "    .colab-df-convert {\n",
              "      background-color: #E8F0FE;\n",
              "      border: none;\n",
              "      border-radius: 50%;\n",
              "      cursor: pointer;\n",
              "      display: none;\n",
              "      fill: #1967D2;\n",
              "      height: 32px;\n",
              "      padding: 0 0 0 0;\n",
              "      width: 32px;\n",
              "    }\n",
              "\n",
              "    .colab-df-convert:hover {\n",
              "      background-color: #E2EBFA;\n",
              "      box-shadow: 0px 1px 2px rgba(60, 64, 67, 0.3), 0px 1px 3px 1px rgba(60, 64, 67, 0.15);\n",
              "      fill: #174EA6;\n",
              "    }\n",
              "\n",
              "    [theme=dark] .colab-df-convert {\n",
              "      background-color: #3B4455;\n",
              "      fill: #D2E3FC;\n",
              "    }\n",
              "\n",
              "    [theme=dark] .colab-df-convert:hover {\n",
              "      background-color: #434B5C;\n",
              "      box-shadow: 0px 1px 3px 1px rgba(0, 0, 0, 0.15);\n",
              "      filter: drop-shadow(0px 1px 2px rgba(0, 0, 0, 0.3));\n",
              "      fill: #FFFFFF;\n",
              "    }\n",
              "  </style>\n",
              "\n",
              "      <script>\n",
              "        const buttonEl =\n",
              "          document.querySelector('#df-4c06d259-f875-4e7e-9612-56f024627c2f button.colab-df-convert');\n",
              "        buttonEl.style.display =\n",
              "          google.colab.kernel.accessAllowed ? 'block' : 'none';\n",
              "\n",
              "        async function convertToInteractive(key) {\n",
              "          const element = document.querySelector('#df-4c06d259-f875-4e7e-9612-56f024627c2f');\n",
              "          const dataTable =\n",
              "            await google.colab.kernel.invokeFunction('convertToInteractive',\n",
              "                                                     [key], {});\n",
              "          if (!dataTable) return;\n",
              "\n",
              "          const docLinkHtml = 'Like what you see? Visit the ' +\n",
              "            '<a target=\"_blank\" href=https://colab.research.google.com/notebooks/data_table.ipynb>data table notebook</a>'\n",
              "            + ' to learn more about interactive tables.';\n",
              "          element.innerHTML = '';\n",
              "          dataTable['output_type'] = 'display_data';\n",
              "          await google.colab.output.renderOutput(dataTable, element);\n",
              "          const docLink = document.createElement('div');\n",
              "          docLink.innerHTML = docLinkHtml;\n",
              "          element.appendChild(docLink);\n",
              "        }\n",
              "      </script>\n",
              "    </div>\n",
              "  </div>\n",
              "  "
            ]
          },
          "metadata": {},
          "execution_count": 15
        }
      ]
    },
    {
      "cell_type": "code",
      "source": [
        "df_new.shape"
      ],
      "metadata": {
        "execution": {
          "iopub.status.busy": "2023-02-10T12:29:49.210062Z",
          "iopub.execute_input": "2023-02-10T12:29:49.211395Z",
          "iopub.status.idle": "2023-02-10T12:29:49.220274Z",
          "shell.execute_reply.started": "2023-02-10T12:29:49.211342Z",
          "shell.execute_reply": "2023-02-10T12:29:49.219257Z"
        },
        "trusted": true,
        "colab": {
          "base_uri": "https://localhost:8080/"
        },
        "id": "dvYHtcPw9Uy5",
        "outputId": "93568a8d-b3ee-44f5-8069-ba4f0c86a86e"
      },
      "execution_count": 16,
      "outputs": [
        {
          "output_type": "execute_result",
          "data": {
            "text/plain": [
              "(70092, 14)"
            ]
          },
          "metadata": {},
          "execution_count": 16
        }
      ]
    },
    {
      "cell_type": "code",
      "source": [
        "df_new['T (degC)'].plot(figsize=(15,6))"
      ],
      "metadata": {
        "execution": {
          "iopub.status.busy": "2023-02-10T12:29:50.360344Z",
          "iopub.execute_input": "2023-02-10T12:29:50.360715Z",
          "iopub.status.idle": "2023-02-10T12:29:50.891245Z",
          "shell.execute_reply.started": "2023-02-10T12:29:50.360684Z",
          "shell.execute_reply": "2023-02-10T12:29:50.890238Z"
        },
        "trusted": true,
        "colab": {
          "base_uri": "https://localhost:8080/",
          "height": 388
        },
        "id": "IBh_5yU39Uy6",
        "outputId": "4fb051dd-b231-456a-b9e4-9f998e482f32"
      },
      "execution_count": 17,
      "outputs": [
        {
          "output_type": "execute_result",
          "data": {
            "text/plain": [
              "<matplotlib.axes._subplots.AxesSubplot at 0x7fdeb284fbe0>"
            ]
          },
          "metadata": {},
          "execution_count": 17
        },
        {
          "output_type": "display_data",
          "data": {
            "text/plain": [
              "<Figure size 1080x432 with 1 Axes>"
            ],
            "image/png": "[encoded data removed]"
          },
          "metadata": {
            "needs_background": "light"
          }
        }
      ]
    },
    {
      "cell_type": "code",
      "source": [
        "from sklearn.preprocessing import MinMaxScaler"
      ],
      "metadata": {
        "execution": {
          "iopub.status.busy": "2023-02-10T12:29:54.033108Z",
          "iopub.execute_input": "2023-02-10T12:29:54.033810Z",
          "iopub.status.idle": "2023-02-10T12:29:54.038491Z",
          "shell.execute_reply.started": "2023-02-10T12:29:54.033774Z",
          "shell.execute_reply": "2023-02-10T12:29:54.037472Z"
        },
        "trusted": true,
        "id": "dhk_KVwY9Uy7"
      },
      "execution_count": 18,
      "outputs": []
    },
    {
      "cell_type": "code",
      "source": [
        "scaler=MinMaxScaler()\n",
        "df_scaled=scaler.fit_transform(df_new)"
      ],
      "metadata": {
        "execution": {
          "iopub.status.busy": "2023-02-10T12:29:55.038989Z",
          "iopub.execute_input": "2023-02-10T12:29:55.039690Z",
          "iopub.status.idle": "2023-02-10T12:29:55.069886Z",
          "shell.execute_reply.started": "2023-02-10T12:29:55.039655Z",
          "shell.execute_reply": "2023-02-10T12:29:55.068901Z"
        },
        "trusted": true,
        "id": "zbfCeqT69Uy8"
      },
      "execution_count": 19,
      "outputs": []
    },
    {
      "cell_type": "code",
      "source": [
        "df_scaled"
      ],
      "metadata": {
        "execution": {
          "iopub.status.busy": "2023-02-10T12:29:56.370330Z",
          "iopub.execute_input": "2023-02-10T12:29:56.371808Z",
          "iopub.status.idle": "2023-02-10T12:29:56.379105Z",
          "shell.execute_reply.started": "2023-02-10T12:29:56.371766Z",
          "shell.execute_reply": "2023-02-10T12:29:56.378057Z"
        },
        "trusted": true,
        "colab": {
          "base_uri": "https://localhost:8080/"
        },
        "id": "_nR-BcrS9Uy8",
        "outputId": "c2e113d6-61fa-4bf1-835e-e74a66de60f4"
      },
      "execution_count": 20,
      "outputs": [
        {
          "output_type": "execute_result",
          "data": {
            "text/plain": [
              "array([[0.24925175, 0.81458786, 0.24478994, ..., 0.99726153, 0.99802107,\n",
              "        0.42305556],\n",
              "       [0.25590289, 0.8143902 , 0.25157129, ..., 0.99717676, 0.9979093 ,\n",
              "        0.4625    ],\n",
              "       [0.23545062, 0.81567503, 0.23106186, ..., 0.99717477, 0.99789633,\n",
              "        0.43972222],\n",
              "       ...,\n",
              "       [0.33920851, 0.85935956, 0.32864704, ..., 0.9972356 , 0.9980101 ,\n",
              "        0.35861111],\n",
              "       [0.32906551, 0.85402253, 0.31921932, ..., 0.99724358, 0.99800012,\n",
              "        0.57722222],\n",
              "       [0.31526438, 0.84967385, 0.30598743, ..., 0.99722563, 0.99799812,\n",
              "        0.66666667]])"
            ]
          },
          "metadata": {},
          "execution_count": 20
        }
      ]
    },
    {
      "cell_type": "code",
      "source": [
        "training_size=int(len(df_scaled)*0.65)\n",
        "test_size=len(df_scaled)-training_size"
      ],
      "metadata": {
        "execution": {
          "iopub.status.busy": "2023-02-10T12:30:00.283258Z",
          "iopub.execute_input": "2023-02-10T12:30:00.284059Z",
          "iopub.status.idle": "2023-02-10T12:30:00.288933Z",
          "shell.execute_reply.started": "2023-02-10T12:30:00.284021Z",
          "shell.execute_reply": "2023-02-10T12:30:00.287890Z"
        },
        "trusted": true,
        "id": "t3jWlkpd9Uy9"
      },
      "execution_count": 21,
      "outputs": []
    },
    {
      "cell_type": "code",
      "source": [
        "training_size,test_size"
      ],
      "metadata": {
        "execution": {
          "iopub.status.busy": "2023-02-10T12:30:02.240768Z",
          "iopub.execute_input": "2023-02-10T12:30:02.241499Z",
          "iopub.status.idle": "2023-02-10T12:30:02.248196Z",
          "shell.execute_reply.started": "2023-02-10T12:30:02.241464Z",
          "shell.execute_reply": "2023-02-10T12:30:02.246731Z"
        },
        "trusted": true,
        "colab": {
          "base_uri": "https://localhost:8080/"
        },
        "id": "c5wNYrnt9Uy-",
        "outputId": "8adbdbbe-8f35-4310-b5bc-a78d65eef0df"
      },
      "execution_count": 22,
      "outputs": [
        {
          "output_type": "execute_result",
          "data": {
            "text/plain": [
              "(45559, 24533)"
            ]
          },
          "metadata": {},
          "execution_count": 22
        }
      ]
    },
    {
      "cell_type": "code",
      "source": [
        "train_data=df_scaled[:training_size,]\n",
        "test_data=df_scaled[training_size:len(df_scaled),]"
      ],
      "metadata": {
        "execution": {
          "iopub.status.busy": "2023-02-10T12:30:04.543064Z",
          "iopub.execute_input": "2023-02-10T12:30:04.543500Z",
          "iopub.status.idle": "2023-02-10T12:30:04.548897Z",
          "shell.execute_reply.started": "2023-02-10T12:30:04.543463Z",
          "shell.execute_reply": "2023-02-10T12:30:04.547783Z"
        },
        "trusted": true,
        "id": "ve0xyIVO9Uy-"
      },
      "execution_count": 23,
      "outputs": []
    },
    {
      "cell_type": "code",
      "source": [
        "train_data.shape,test_data.shape"
      ],
      "metadata": {
        "execution": {
          "iopub.status.busy": "2023-02-10T12:30:09.183592Z",
          "iopub.execute_input": "2023-02-10T12:30:09.183960Z",
          "iopub.status.idle": "2023-02-10T12:30:09.192396Z",
          "shell.execute_reply.started": "2023-02-10T12:30:09.183928Z",
          "shell.execute_reply": "2023-02-10T12:30:09.191321Z"
        },
        "trusted": true,
        "colab": {
          "base_uri": "https://localhost:8080/"
        },
        "id": "8SsLkD7l9Uy_",
        "outputId": "77b0ce3c-e7eb-4a2c-b434-78517f147599"
      },
      "execution_count": 24,
      "outputs": [
        {
          "output_type": "execute_result",
          "data": {
            "text/plain": [
              "((45559, 14), (24533, 14))"
            ]
          },
          "metadata": {},
          "execution_count": 24
        }
      ]
    },
    {
      "cell_type": "code",
      "source": [
        "def create_dataset(dataset,timestep=1):\n",
        "    dataX,dataY=[],[]\n",
        "    for i in range(len(dataset)-timestep-1):\n",
        "        a=dataset[i:i+timestep,1:]\n",
        "        dataX.append(a)\n",
        "        dataY.append(dataset[i+timestep,0])\n",
        "    return np.array(dataX),np.array(dataY)"
      ],
      "metadata": {
        "execution": {
          "iopub.status.busy": "2023-02-10T12:32:15.034116Z",
          "iopub.execute_input": "2023-02-10T12:32:15.034823Z",
          "iopub.status.idle": "2023-02-10T12:32:15.040996Z",
          "shell.execute_reply.started": "2023-02-10T12:32:15.034788Z",
          "shell.execute_reply": "2023-02-10T12:32:15.039815Z"
        },
        "trusted": true,
        "id": "zkQMvnSV9Uy_"
      },
      "execution_count": 25,
      "outputs": []
    },
    {
      "cell_type": "code",
      "source": [
        "timestep=168\n",
        "X_train,y_train=create_dataset(train_data,timestep)\n",
        "X_test,y_test=create_dataset(test_data,timestep)"
      ],
      "metadata": {
        "execution": {
          "iopub.status.busy": "2023-02-10T12:33:11.811393Z",
          "iopub.execute_input": "2023-02-10T12:33:11.812136Z",
          "iopub.status.idle": "2023-02-10T12:33:12.292320Z",
          "shell.execute_reply.started": "2023-02-10T12:33:11.812102Z",
          "shell.execute_reply": "2023-02-10T12:33:12.290778Z"
        },
        "trusted": true,
        "id": "ejnzgO0M9UzA"
      },
      "execution_count": 26,
      "outputs": []
    },
    {
      "cell_type": "code",
      "source": [
        "X_train.shape,y_train.shape"
      ],
      "metadata": {
        "execution": {
          "iopub.status.busy": "2023-02-10T12:33:25.669536Z",
          "iopub.execute_input": "2023-02-10T12:33:25.669902Z",
          "iopub.status.idle": "2023-02-10T12:33:25.676250Z",
          "shell.execute_reply.started": "2023-02-10T12:33:25.669871Z",
          "shell.execute_reply": "2023-02-10T12:33:25.675227Z"
        },
        "trusted": true,
        "colab": {
          "base_uri": "https://localhost:8080/"
        },
        "id": "Sxv7x0GE9UzA",
        "outputId": "fcd1b9b0-2717-431e-f466-7062caa42a47"
      },
      "execution_count": 27,
      "outputs": [
        {
          "output_type": "execute_result",
          "data": {
            "text/plain": [
              "((45390, 168, 13), (45390,))"
            ]
          },
          "metadata": {},
          "execution_count": 27
        }
      ]
    },
    {
      "cell_type": "code",
      "source": [
        "X_test.shape,y_test.shape"
      ],
      "metadata": {
        "execution": {
          "iopub.status.busy": "2023-02-10T12:33:40.086187Z",
          "iopub.execute_input": "2023-02-10T12:33:40.086737Z",
          "iopub.status.idle": "2023-02-10T12:33:40.099622Z",
          "shell.execute_reply.started": "2023-02-10T12:33:40.086689Z",
          "shell.execute_reply": "2023-02-10T12:33:40.098610Z"
        },
        "trusted": true,
        "colab": {
          "base_uri": "https://localhost:8080/"
        },
        "id": "X0CstLJg9UzB",
        "outputId": "bbef8590-740a-4492-b986-c7cc9a76a06e"
      },
      "execution_count": 28,
      "outputs": [
        {
          "output_type": "execute_result",
          "data": {
            "text/plain": [
              "((24364, 168, 13), (24364,))"
            ]
          },
          "metadata": {},
          "execution_count": 28
        }
      ]
    },
    {
      "cell_type": "code",
      "source": [
        "from tensorflow.keras.models import Sequential\n",
        "from tensorflow.keras.layers import Dense\n",
        "from tensorflow.keras.layers import Conv1D\n",
        "from tensorflow.keras.layers import Flatten"
      ],
      "metadata": {
        "execution": {
          "iopub.status.busy": "2023-02-10T13:01:26.226254Z",
          "iopub.execute_input": "2023-02-10T13:01:26.227315Z",
          "iopub.status.idle": "2023-02-10T13:01:26.234928Z",
          "shell.execute_reply.started": "2023-02-10T13:01:26.227240Z",
          "shell.execute_reply": "2023-02-10T13:01:26.233952Z"
        },
        "trusted": true,
        "id": "CJz8lxSS9UzB"
      },
      "execution_count": 29,
      "outputs": []
    },
    {
      "cell_type": "code",
      "source": [
        "model=Sequential()\n",
        "model.add(Conv1D(64,kernel_size=2,input_shape=(X_train.shape[1],X_train.shape[2]),activation='relu'))\n",
        "model.add(Conv1D(32,kernel_size=3,activation='relu'))\n",
        "model.add(Conv1D(32,kernel_size=3,activation='relu'))\n",
        "model.add(Flatten())\n",
        "# model.add(Dense(8,activation='relu'))\n",
        "# model.add(Dense(8,activation='relu'))\n",
        "model.add(Dense(8,activation='relu'))\n",
        "model.add(Dense(1))"
      ],
      "metadata": {
        "execution": {
          "iopub.status.busy": "2023-02-10T13:23:32.603199Z",
          "iopub.execute_input": "2023-02-10T13:23:32.603930Z",
          "iopub.status.idle": "2023-02-10T13:23:32.665403Z",
          "shell.execute_reply.started": "2023-02-10T13:23:32.603893Z",
          "shell.execute_reply": "2023-02-10T13:23:32.664317Z"
        },
        "trusted": true,
        "id": "jEwQemzE9UzB"
      },
      "execution_count": 30,
      "outputs": []
    },
    {
      "cell_type": "code",
      "source": [
        "model.summary()"
      ],
      "metadata": {
        "execution": {
          "iopub.status.busy": "2023-02-10T13:23:34.037970Z",
          "iopub.execute_input": "2023-02-10T13:23:34.038718Z",
          "iopub.status.idle": "2023-02-10T13:23:34.046319Z",
          "shell.execute_reply.started": "2023-02-10T13:23:34.038673Z",
          "shell.execute_reply": "2023-02-10T13:23:34.045048Z"
        },
        "trusted": true,
        "colab": {
          "base_uri": "https://localhost:8080/"
        },
        "id": "BypbFVqC9UzC",
        "outputId": "8596f70e-80cc-407a-f320-c171e216b882"
      },
      "execution_count": 31,
      "outputs": [
        {
          "output_type": "stream",
          "name": "stdout",
          "text": [
            "Model: \"sequential\"\n",
            "_________________________________________________________________\n",
            " Layer (type)                Output Shape              Param #   \n",
            "=================================================================\n",
            " conv1d (Conv1D)             (None, 167, 64)           1728      \n",
            "                                                                 \n",
            " conv1d_1 (Conv1D)           (None, 165, 32)           6176      \n",
            "                                                                 \n",
            " conv1d_2 (Conv1D)           (None, 163, 32)           3104      \n",
            "                                                                 \n",
            " flatten (Flatten)           (None, 5216)              0         \n",
            "                                                                 \n",
            " dense (Dense)               (None, 8)                 41736     \n",
            "                                                                 \n",
            " dense_1 (Dense)             (None, 1)                 9         \n",
            "                                                                 \n",
            "=================================================================\n",
            "Total params: 52,753\n",
            "Trainable params: 52,753\n",
            "Non-trainable params: 0\n",
            "_________________________________________________________________\n"
          ]
        }
      ]
    },
    {
      "cell_type": "code",
      "source": [
        "model.compile(optimizer='adam',loss='mean_squared_error')"
      ],
      "metadata": {
        "execution": {
          "iopub.status.busy": "2023-02-10T13:27:27.725083Z",
          "iopub.execute_input": "2023-02-10T13:27:27.726380Z",
          "iopub.status.idle": "2023-02-10T13:27:27.740270Z",
          "shell.execute_reply.started": "2023-02-10T13:27:27.726328Z",
          "shell.execute_reply": "2023-02-10T13:27:27.739271Z"
        },
        "trusted": true,
        "id": "8GbOWBMN9UzC"
      },
      "execution_count": 32,
      "outputs": []
    },
    {
      "cell_type": "code",
      "source": [
        "import tensorflow as tf\n",
        "early_stopping=tf.keras.callbacks.EarlyStopping(\n",
        "    monitor=\"val_loss\",\n",
        "    min_delta=0.0001,\n",
        "    patience=20,\n",
        "    verbose=1,\n",
        "    mode=\"auto\",\n",
        "    baseline=None,\n",
        "    restore_best_weights=False,\n",
        ")"
      ],
      "metadata": {
        "execution": {
          "iopub.status.busy": "2023-02-10T13:27:28.634795Z",
          "iopub.execute_input": "2023-02-10T13:27:28.635549Z",
          "iopub.status.idle": "2023-02-10T13:27:28.641471Z",
          "shell.execute_reply.started": "2023-02-10T13:27:28.635507Z",
          "shell.execute_reply": "2023-02-10T13:27:28.640334Z"
        },
        "trusted": true,
        "id": "mG6evmJL9UzD"
      },
      "execution_count": 33,
      "outputs": []
    },
    {
      "cell_type": "code",
      "source": [
        "history=model.fit(X_train,y_train,epochs=100,validation_data=(X_test,y_test),batch_size=32,callbacks=early_stopping)"
      ],
      "metadata": {
        "execution": {
          "iopub.status.busy": "2023-02-10T13:32:55.823158Z",
          "iopub.execute_input": "2023-02-10T13:32:55.824097Z",
          "iopub.status.idle": "2023-02-10T13:34:59.674914Z",
          "shell.execute_reply.started": "2023-02-10T13:32:55.824048Z",
          "shell.execute_reply": "2023-02-10T13:34:59.673950Z"
        },
        "trusted": true,
        "id": "0rPY6MkL9UzD",
        "outputId": "a79520a1-26d7-4c0f-a2a4-9d2f5b67c757"
      },
      "execution_count": null,
      "outputs": [
        {
          "name": "stdout",
          "text": "Epoch 1/100\n1419/1419 [==============================] - 6s 4ms/step - loss: 1.8314e-04 - val_loss: 2.0661e-04\nEpoch 2/100\n1419/1419 [==============================] - 5s 4ms/step - loss: 1.7028e-04 - val_loss: 1.5009e-04\nEpoch 3/100\n1419/1419 [==============================] - 6s 4ms/step - loss: 1.7560e-04 - val_loss: 1.9088e-04\nEpoch 4/100\n1419/1419 [==============================] - 6s 4ms/step - loss: 1.7021e-04 - val_loss: 2.0022e-04\nEpoch 5/100\n1419/1419 [==============================] - 6s 4ms/step - loss: 1.7369e-04 - val_loss: 1.5630e-04\nEpoch 6/100\n1419/1419 [==============================] - 6s 4ms/step - loss: 1.6901e-04 - val_loss: 1.5990e-04\nEpoch 7/100\n1419/1419 [==============================] - 6s 4ms/step - loss: 1.7354e-04 - val_loss: 1.4818e-04\nEpoch 8/100\n1419/1419 [==============================] - 6s 4ms/step - loss: 1.7214e-04 - val_loss: 1.4634e-04\nEpoch 9/100\n1419/1419 [==============================] - 6s 4ms/step - loss: 1.6889e-04 - val_loss: 1.4498e-04\nEpoch 10/100\n1419/1419 [==============================] - 6s 4ms/step - loss: 1.6704e-04 - val_loss: 1.4294e-04\nEpoch 11/100\n1419/1419 [==============================] - 6s 4ms/step - loss: 1.7010e-04 - val_loss: 1.7915e-04\nEpoch 12/100\n1419/1419 [==============================] - 6s 4ms/step - loss: 1.6544e-04 - val_loss: 1.4723e-04\nEpoch 13/100\n1419/1419 [==============================] - 6s 4ms/step - loss: 1.6458e-04 - val_loss: 1.5989e-04\nEpoch 14/100\n1419/1419 [==============================] - 6s 4ms/step - loss: 1.6524e-04 - val_loss: 1.4863e-04\nEpoch 15/100\n1419/1419 [==============================] - 6s 4ms/step - loss: 1.6740e-04 - val_loss: 3.1401e-04\nEpoch 16/100\n1419/1419 [==============================] - 6s 4ms/step - loss: 1.6953e-04 - val_loss: 1.4922e-04\nEpoch 17/100\n1419/1419 [==============================] - 6s 4ms/step - loss: 1.6032e-04 - val_loss: 1.6803e-04\nEpoch 18/100\n1419/1419 [==============================] - 6s 4ms/step - loss: 1.6179e-04 - val_loss: 1.9486e-04\nEpoch 19/100\n1419/1419 [==============================] - 6s 4ms/step - loss: 1.6757e-04 - val_loss: 1.4654e-04\nEpoch 20/100\n1419/1419 [==============================] - 7s 5ms/step - loss: 1.6356e-04 - val_loss: 1.4967e-04\nEpoch 21/100\n1419/1419 [==============================] - 6s 4ms/step - loss: 1.6289e-04 - val_loss: 1.4252e-04\nEpoch 00021: early stopping\n",
          "output_type": "stream"
        }
      ]
    },
    {
      "cell_type": "code",
      "source": [
        "model.save('weather_cnn_model.hdf5')"
      ],
      "metadata": {
        "execution": {
          "iopub.status.busy": "2023-02-10T13:34:59.677115Z",
          "iopub.execute_input": "2023-02-10T13:34:59.677489Z",
          "iopub.status.idle": "2023-02-10T13:34:59.711820Z",
          "shell.execute_reply.started": "2023-02-10T13:34:59.677452Z",
          "shell.execute_reply": "2023-02-10T13:34:59.710940Z"
        },
        "trusted": true,
        "id": "I5bXaf249UzD"
      },
      "execution_count": null,
      "outputs": []
    },
    {
      "cell_type": "code",
      "source": [
        "plt.plot(history.history['loss'],label='train loss')\n",
        "plt.plot(history.history['val_loss'],label='test loss')\n",
        "plt.legend()"
      ],
      "metadata": {
        "execution": {
          "iopub.status.busy": "2023-02-10T13:34:59.712971Z",
          "iopub.execute_input": "2023-02-10T13:34:59.713340Z",
          "iopub.status.idle": "2023-02-10T13:34:59.974123Z",
          "shell.execute_reply.started": "2023-02-10T13:34:59.713301Z",
          "shell.execute_reply": "2023-02-10T13:34:59.973183Z"
        },
        "trusted": true,
        "id": "DZ3UTYdF9UzE",
        "outputId": "e5cf753e-9c0a-4b37-c99c-b09de2bc3fee"
      },
      "execution_count": null,
      "outputs": [
        {
          "execution_count": 135,
          "output_type": "execute_result",
          "data": {
            "text/plain": "<matplotlib.legend.Legend at 0x7fbe59b3c650>"
          },
          "metadata": {}
        },
        {
          "output_type": "display_data",
          "data": {
            "text/plain": "<Figure size 432x288 with 1 Axes>",
            "image/png": "[encoded data removed]"
          },
          "metadata": {
            "needs_background": "light"
          }
        }
      ]
    },
    {
      "cell_type": "code",
      "source": [
        "from tensorflow.keras.models import load_model"
      ],
      "metadata": {
        "execution": {
          "iopub.status.busy": "2023-02-10T13:37:50.979552Z",
          "iopub.execute_input": "2023-02-10T13:37:50.979919Z",
          "iopub.status.idle": "2023-02-10T13:37:50.984830Z",
          "shell.execute_reply.started": "2023-02-10T13:37:50.979888Z",
          "shell.execute_reply": "2023-02-10T13:37:50.983663Z"
        },
        "trusted": true,
        "id": "t07itJDZ9UzE"
      },
      "execution_count": 34,
      "outputs": []
    },
    {
      "cell_type": "code",
      "source": [
        "model=load_model('weather_cnn_model.hdf5')"
      ],
      "metadata": {
        "execution": {
          "iopub.status.busy": "2023-02-10T13:38:21.484836Z",
          "iopub.execute_input": "2023-02-10T13:38:21.485205Z",
          "iopub.status.idle": "2023-02-10T13:38:21.588117Z",
          "shell.execute_reply.started": "2023-02-10T13:38:21.485167Z",
          "shell.execute_reply": "2023-02-10T13:38:21.587029Z"
        },
        "trusted": true,
        "id": "3UrLv7iZ9UzF"
      },
      "execution_count": 35,
      "outputs": []
    },
    {
      "cell_type": "code",
      "source": [
        "train_predict=model.predict(X_train)\n",
        "test_predict=model.predict(X_test)"
      ],
      "metadata": {
        "execution": {
          "iopub.status.busy": "2023-02-10T13:43:41.729259Z",
          "iopub.execute_input": "2023-02-10T13:43:41.730234Z",
          "iopub.status.idle": "2023-02-10T13:43:45.770675Z",
          "shell.execute_reply.started": "2023-02-10T13:43:41.730197Z",
          "shell.execute_reply": "2023-02-10T13:43:45.769580Z"
        },
        "trusted": true,
        "colab": {
          "base_uri": "https://localhost:8080/"
        },
        "id": "P8-z8Fit9UzF",
        "outputId": "11665820-395e-4bf6-e45a-3f455eb3b7aa"
      },
      "execution_count": 36,
      "outputs": [
        {
          "output_type": "stream",
          "name": "stdout",
          "text": [
            "1419/1419 [==============================] - 10s 2ms/step\n",
            "762/762 [==============================] - 2s 2ms/step\n"
          ]
        }
      ]
    },
    {
      "cell_type": "code",
      "source": [
        "train_predict"
      ],
      "metadata": {
        "execution": {
          "iopub.status.busy": "2023-02-10T14:21:32.413109Z",
          "iopub.execute_input": "2023-02-10T14:21:32.413523Z",
          "iopub.status.idle": "2023-02-10T14:21:32.421291Z",
          "shell.execute_reply.started": "2023-02-10T14:21:32.413492Z",
          "shell.execute_reply": "2023-02-10T14:21:32.420042Z"
        },
        "trusted": true,
        "colab": {
          "base_uri": "https://localhost:8080/"
        },
        "id": "xZ2myyPi9UzF",
        "outputId": "d46cc9aa-52ca-4bc5-ed97-3a9074e2bc11"
      },
      "execution_count": 37,
      "outputs": [
        {
          "output_type": "execute_result",
          "data": {
            "text/plain": [
              "array([[0.21496156],\n",
              "       [0.21774152],\n",
              "       [0.19810359],\n",
              "       ...,\n",
              "       [0.39048326],\n",
              "       [0.37539646],\n",
              "       [0.36276406]], dtype=float32)"
            ]
          },
          "metadata": {},
          "execution_count": 37
        }
      ]
    },
    {
      "cell_type": "code",
      "source": [
        "train_predict_repeated=np.repeat(train_predict,14,axis=-1)\n",
        "test_predict_repeated=np.repeat(test_predict,14,axis=-1)"
      ],
      "metadata": {
        "execution": {
          "iopub.status.busy": "2023-02-10T13:44:10.739390Z",
          "iopub.execute_input": "2023-02-10T13:44:10.739818Z",
          "iopub.status.idle": "2023-02-10T13:44:10.750742Z",
          "shell.execute_reply.started": "2023-02-10T13:44:10.739781Z",
          "shell.execute_reply": "2023-02-10T13:44:10.749303Z"
        },
        "trusted": true,
        "id": "b_df816t9UzG"
      },
      "execution_count": 38,
      "outputs": []
    },
    {
      "cell_type": "code",
      "source": [
        "train_predict_repeated"
      ],
      "metadata": {
        "execution": {
          "iopub.status.busy": "2023-02-10T14:22:22.692805Z",
          "iopub.execute_input": "2023-02-10T14:22:22.693221Z",
          "iopub.status.idle": "2023-02-10T14:22:22.701721Z",
          "shell.execute_reply.started": "2023-02-10T14:22:22.693185Z",
          "shell.execute_reply": "2023-02-10T14:22:22.700553Z"
        },
        "trusted": true,
        "colab": {
          "base_uri": "https://localhost:8080/"
        },
        "id": "re4RzlTy9UzG",
        "outputId": "20dfbe1e-de81-4e40-c573-1d1b75a4bb25"
      },
      "execution_count": 39,
      "outputs": [
        {
          "output_type": "execute_result",
          "data": {
            "text/plain": [
              "array([[0.21496156, 0.21496156, 0.21496156, ..., 0.21496156, 0.21496156,\n",
              "        0.21496156],\n",
              "       [0.21774152, 0.21774152, 0.21774152, ..., 0.21774152, 0.21774152,\n",
              "        0.21774152],\n",
              "       [0.19810359, 0.19810359, 0.19810359, ..., 0.19810359, 0.19810359,\n",
              "        0.19810359],\n",
              "       ...,\n",
              "       [0.39048326, 0.39048326, 0.39048326, ..., 0.39048326, 0.39048326,\n",
              "        0.39048326],\n",
              "       [0.37539646, 0.37539646, 0.37539646, ..., 0.37539646, 0.37539646,\n",
              "        0.37539646],\n",
              "       [0.36276406, 0.36276406, 0.36276406, ..., 0.36276406, 0.36276406,\n",
              "        0.36276406]], dtype=float32)"
            ]
          },
          "metadata": {},
          "execution_count": 39
        }
      ]
    },
    {
      "cell_type": "code",
      "source": [
        "train_predict_transformed=scaler.inverse_transform(train_predict_repeated)[:,0]\n",
        "test_predict_transformed=scaler.inverse_transform(test_predict_repeated)[:,0]"
      ],
      "metadata": {
        "execution": {
          "iopub.status.busy": "2023-02-10T14:22:54.269698Z",
          "iopub.execute_input": "2023-02-10T14:22:54.270081Z",
          "iopub.status.idle": "2023-02-10T14:22:54.288539Z",
          "shell.execute_reply.started": "2023-02-10T14:22:54.270050Z",
          "shell.execute_reply": "2023-02-10T14:22:54.287522Z"
        },
        "trusted": true,
        "id": "Ekcfc4xK9UzH"
      },
      "execution_count": 40,
      "outputs": []
    },
    {
      "cell_type": "code",
      "source": [
        "plt.plot(train_predict,label='train pred')\n",
        "plt.plot(y_train,label='train actuals')\n",
        "plt.legend()"
      ],
      "metadata": {
        "execution": {
          "iopub.status.busy": "2023-02-10T14:28:05.877015Z",
          "iopub.execute_input": "2023-02-10T14:28:05.877407Z",
          "iopub.status.idle": "2023-02-10T14:28:06.464191Z",
          "shell.execute_reply.started": "2023-02-10T14:28:05.877375Z",
          "shell.execute_reply": "2023-02-10T14:28:06.463197Z"
        },
        "trusted": true,
        "colab": {
          "base_uri": "https://localhost:8080/",
          "height": 283
        },
        "id": "nnk-uhho9UzH",
        "outputId": "8eccf053-5c78-4114-8419-1593c4bc7a2f"
      },
      "execution_count": 43,
      "outputs": [
        {
          "output_type": "execute_result",
          "data": {
            "text/plain": [
              "<matplotlib.legend.Legend at 0x7fde4c21af70>"
            ]
          },
          "metadata": {},
          "execution_count": 43
        },
        {
          "output_type": "display_data",
          "data": {
            "text/plain": [
              "<Figure size 432x288 with 1 Axes>"
            ],
            "image/png": "[encoded data removed]"
          },
          "metadata": {
            "needs_background": "light"
          }
        }
      ]
    },
    {
      "cell_type": "code",
      "source": [
        "plt.plot(test_predict,label='test pred')\n",
        "plt.plot(y_test,label='test actuals')\n",
        "plt.legend()"
      ],
      "metadata": {
        "execution": {
          "iopub.status.busy": "2023-02-10T14:28:26.743604Z",
          "iopub.execute_input": "2023-02-10T14:28:26.743986Z",
          "iopub.status.idle": "2023-02-10T14:28:27.034656Z",
          "shell.execute_reply.started": "2023-02-10T14:28:26.743954Z",
          "shell.execute_reply": "2023-02-10T14:28:27.033559Z"
        },
        "trusted": true,
        "colab": {
          "base_uri": "https://localhost:8080/",
          "height": 283
        },
        "id": "0drxJ0d-9UzH",
        "outputId": "38d2a998-93ae-4bcc-9406-4ef9893120b8"
      },
      "execution_count": 44,
      "outputs": [
        {
          "output_type": "execute_result",
          "data": {
            "text/plain": [
              "<matplotlib.legend.Legend at 0x7fde4c1f5df0>"
            ]
          },
          "metadata": {},
          "execution_count": 44
        },
        {
          "output_type": "display_data",
          "data": {
            "text/plain": [
              "<Figure size 432x288 with 1 Axes>"
            ],
            "image/png": "[encoded data removed]"
          },
          "metadata": {
            "needs_background": "light"
          }
        }
      ]
    },
    {
      "cell_type": "code",
      "source": [
        "\n",
        "past_data=[]"
      ],
      "metadata": {
        "id": "I2jSVzuKEzVf"
      },
      "execution_count": 111,
      "outputs": []
    },
    {
      "cell_type": "code",
      "source": [
        "#we will take last 1 month record \n",
        "past_data.append(df_scaled[:168,1:])"
      ],
      "metadata": {
        "id": "qPDpCX1kHVUs"
      },
      "execution_count": 112,
      "outputs": []
    },
    {
      "cell_type": "code",
      "source": [
        "past_data=np.array(past_data)"
      ],
      "metadata": {
        "id": "_yfcRI30I5Y7"
      },
      "execution_count": 113,
      "outputs": []
    },
    {
      "cell_type": "code",
      "source": [
        "past_data.shape"
      ],
      "metadata": {
        "colab": {
          "base_uri": "https://localhost:8080/"
        },
        "id": "O3xG0C7PHKYC",
        "outputId": "03392acc-e826-4669-84d7-73aada21c9d8"
      },
      "execution_count": 114,
      "outputs": [
        {
          "output_type": "execute_result",
          "data": {
            "text/plain": [
              "(1, 168, 13)"
            ]
          },
          "metadata": {},
          "execution_count": 114
        }
      ]
    },
    {
      "cell_type": "code",
      "source": [
        "forecasted_temp=model.predict(past_data)"
      ],
      "metadata": {
        "colab": {
          "base_uri": "https://localhost:8080/"
        },
        "id": "iRJPMlCR9UzI",
        "outputId": "802d22e3-94ff-43bc-bae6-3c1c061a554c"
      },
      "execution_count": 74,
      "outputs": [
        {
          "output_type": "stream",
          "name": "stdout",
          "text": [
            "1/1 [==============================] - 0s 136ms/step\n"
          ]
        }
      ]
    },
    {
      "cell_type": "code",
      "source": [
        "forecasted_temp"
      ],
      "metadata": {
        "colab": {
          "base_uri": "https://localhost:8080/"
        },
        "id": "OJgxUu7eEdXO",
        "outputId": "690173c1-a07b-490c-91b5-521f003a5bca"
      },
      "execution_count": 75,
      "outputs": [
        {
          "output_type": "execute_result",
          "data": {
            "text/plain": [
              "array([[0.21496156]], dtype=float32)"
            ]
          },
          "metadata": {},
          "execution_count": 75
        }
      ]
    },
    {
      "cell_type": "code",
      "source": [
        "forecasted_temp_repeated=np.repeat(forecasted_temp,14,axis=-1)"
      ],
      "metadata": {
        "id": "fPUQ57nqfYAb"
      },
      "execution_count": 152,
      "outputs": []
    },
    {
      "cell_type": "code",
      "source": [
        "forecasted_temp_transformed=scaler.inverse_transform(forecasted_temp_repeated)[:,0]"
      ],
      "metadata": {
        "id": "Ke-x7pONfjhU"
      },
      "execution_count": 153,
      "outputs": []
    },
    {
      "cell_type": "code",
      "source": [
        "forecasted_temp_transformed"
      ],
      "metadata": {
        "colab": {
          "base_uri": "https://localhost:8080/"
        },
        "id": "TlPE-EHPfvcK",
        "outputId": "aad3036a-784d-40c0-bbc9-b739ce2b802c"
      },
      "execution_count": 154,
      "outputs": [
        {
          "output_type": "execute_result",
          "data": {
            "text/plain": [
              "array([-10.0822115], dtype=float32)"
            ]
          },
          "metadata": {},
          "execution_count": 154
        }
      ]
    },
    {
      "cell_type": "code",
      "source": [
        "temperature=df_new['T (degC)']"
      ],
      "metadata": {
        "id": "siOnBRYdWt_K"
      },
      "execution_count": 168,
      "outputs": []
    },
    {
      "cell_type": "code",
      "source": [
        "temperature"
      ],
      "metadata": {
        "colab": {
          "base_uri": "https://localhost:8080/"
        },
        "id": "GSkKnX5Sf6In",
        "outputId": "a2d38698-0c55-4794-97f4-63da04cb1ea7"
      },
      "execution_count": 169,
      "outputs": [
        {
          "output_type": "execute_result",
          "data": {
            "text/plain": [
              "Date Time\n",
              "2009-01-01 00:10:00   -8.02\n",
              "2009-01-01 01:10:00   -7.62\n",
              "2009-01-01 02:10:00   -8.85\n",
              "2009-01-01 03:10:00   -8.84\n",
              "2009-01-01 04:10:00   -9.23\n",
              "                       ... \n",
              "2016-12-31 19:20:00   -1.40\n",
              "2016-12-31 20:20:00   -2.15\n",
              "2016-12-31 21:20:00   -2.61\n",
              "2016-12-31 22:20:00   -3.22\n",
              "2016-12-31 23:20:00   -4.05\n",
              "Name: T (degC), Length: 70092, dtype: float64"
            ]
          },
          "metadata": {},
          "execution_count": 169
        }
      ]
    },
    {
      "cell_type": "code",
      "source": [
        "temperature=np.append(temperature,forecasted_temp_transformed)"
      ],
      "metadata": {
        "id": "DsvAxhc0f7x9"
      },
      "execution_count": 170,
      "outputs": []
    },
    {
      "cell_type": "code",
      "source": [
        "temperature"
      ],
      "metadata": {
        "colab": {
          "base_uri": "https://localhost:8080/"
        },
        "id": "6Q2M7rDRgmnw",
        "outputId": "e6c76073-37ee-4da9-a1e4-cf2ac9f6ec7f"
      },
      "execution_count": 171,
      "outputs": [
        {
          "output_type": "execute_result",
          "data": {
            "text/plain": [
              "array([ -8.02      ,  -7.62      ,  -8.85      , ...,  -3.22      ,\n",
              "        -4.05      , -10.08221149])"
            ]
          },
          "metadata": {},
          "execution_count": 171
        }
      ]
    },
    {
      "cell_type": "code",
      "source": [
        "plt.plot(temperature[len(temperature)-336:len(temperature)])"
      ],
      "metadata": {
        "colab": {
          "base_uri": "https://localhost:8080/",
          "height": 283
        },
        "id": "voDAdkGagvgy",
        "outputId": "4396cc77-4b58-4512-c7b9-30b5a6e2402d"
      },
      "execution_count": 172,
      "outputs": [
        {
          "output_type": "execute_result",
          "data": {
            "text/plain": [
              "[<matplotlib.lines.Line2D at 0x7fddac2ae790>]"
            ]
          },
          "metadata": {},
          "execution_count": 172
        },
        {
          "output_type": "display_data",
          "data": {
            "text/plain": [
              "<Figure size 432x288 with 1 Axes>"
            ],
            "image/png": "[encoded data removed]"
          },
          "metadata": {
            "needs_background": "light"
          }
        }
      ]
    },
    {
      "cell_type": "code",
      "source": [
        "plt.figure(figsize=(15,6))\n",
        "plt.plot(temperature)"
      ],
      "metadata": {
        "colab": {
          "base_uri": "https://localhost:8080/",
          "height": 395
        },
        "id": "1oX-_x0NgzFk",
        "outputId": "b97cceca-eb0e-4b9a-8189-14050fb67e07"
      },
      "execution_count": 175,
      "outputs": [
        {
          "output_type": "execute_result",
          "data": {
            "text/plain": [
              "[<matplotlib.lines.Line2D at 0x7fddac257a60>]"
            ]
          },
          "metadata": {},
          "execution_count": 175
        },
        {
          "output_type": "display_data",
          "data": {
            "text/plain": [
              "<Figure size 1080x432 with 1 Axes>"
            ],
            "image/png": "[encoded data removed]"
          },
          "metadata": {
            "needs_background": "light"
          }
        }
      ]
    },
    {
      "cell_type": "code",
      "source": [
        "\\"
      ],
      "metadata": {
        "id": "icVPjAgGhcPF"
      },
      "execution_count": null,
      "outputs": []
    }
  ]
}